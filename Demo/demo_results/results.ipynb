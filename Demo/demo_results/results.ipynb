{
 "cells": [
  {
   "cell_type": "markdown",
   "id": "a36ab0bb",
   "metadata": {},
   "source": [
    "# Influx"
   ]
  },
  {
   "cell_type": "code",
   "execution_count": 1,
   "id": "cb0ee3d5",
   "metadata": {},
   "outputs": [
    {
     "name": "stdout",
     "output_type": "stream",
     "text": [
      "/Volumes/external_drive/Code/MV2/Demo\n",
      "modicumdb\n"
     ]
    }
   ],
   "source": [
    "import influxdb_client\n",
    "import os\n",
    "import pandas as pd\n",
    "import seaborn as sns\n",
    "import matplotlib.pyplot as plt\n",
    "from copy import deepcopy\n",
    "import json\n",
    "\n",
    "os.chdir('../')\n",
    "print(os.getcwd())\n",
    "\n",
    "from run import influx_cfg\n",
    "print(influx_cfg.bucket)"
   ]
  },
  {
   "cell_type": "code",
   "execution_count": 2,
   "id": "b2578103",
   "metadata": {},
   "outputs": [],
   "source": [
    "pd.set_option(\"display.max_columns\", None)\n",
    "pd.set_option(\"display.max_rows\", None)"
   ]
  },
  {
   "cell_type": "code",
   "execution_count": 3,
   "id": "f3cc2ed1",
   "metadata": {},
   "outputs": [],
   "source": [
    "client = influxdb_client.InfluxDBClient(\n",
    "    url=influx_cfg.url,\n",
    "    token=influx_cfg.token,\n",
    "    org=influx_cfg.org,\n",
    "    retries=3\n",
    ")\n",
    "\n",
    "query_api = client.query_api()"
   ]
  },
  {
   "cell_type": "code",
   "execution_count": 11,
   "id": "69bc5504",
   "metadata": {},
   "outputs": [
    {
     "name": "stdout",
     "output_type": "stream",
     "text": [
      "length of df: 1322\n",
      "Unique _measurement: ['Events']\n",
      "Unique _field: ['state' 'sender' 'allocation']\n"
     ]
    },
    {
     "data": {
      "text/html": [
       "<div>\n",
       "<style scoped>\n",
       "    .dataframe tbody tr th:only-of-type {\n",
       "        vertical-align: middle;\n",
       "    }\n",
       "\n",
       "    .dataframe tbody tr th {\n",
       "        vertical-align: top;\n",
       "    }\n",
       "\n",
       "    .dataframe thead th {\n",
       "        text-align: right;\n",
       "    }\n",
       "</style>\n",
       "<table border=\"1\" class=\"dataframe\">\n",
       "  <thead>\n",
       "    <tr style=\"text-align: right;\">\n",
       "      <th></th>\n",
       "      <th>time_ms</th>\n",
       "      <th>_measurement</th>\n",
       "      <th>_field</th>\n",
       "      <th>_value</th>\n",
       "      <th>uuid</th>\n",
       "      <th>_time</th>\n",
       "      <th>entity</th>\n",
       "    </tr>\n",
       "  </thead>\n",
       "  <tbody>\n",
       "    <tr>\n",
       "      <th>785</th>\n",
       "      <td>0.0</td>\n",
       "      <td>Events</td>\n",
       "      <td>state</td>\n",
       "      <td>1</td>\n",
       "      <td>supplier_978c7a496492499c8632e3e423bee8a2_offer_0</td>\n",
       "      <td>2021-11-20 18:58:06.465628+00:00</td>\n",
       "      <td>supplier</td>\n",
       "    </tr>\n",
       "  </tbody>\n",
       "</table>\n",
       "</div>"
      ],
      "text/plain": [
       "     time_ms _measurement _field _value  \\\n",
       "785      0.0       Events  state      1   \n",
       "\n",
       "                                                  uuid  \\\n",
       "785  supplier_978c7a496492499c8632e3e423bee8a2_offer_0   \n",
       "\n",
       "                               _time    entity  \n",
       "785 2021-11-20 18:58:06.465628+00:00  supplier  "
      ]
     },
     "execution_count": 11,
     "metadata": {},
     "output_type": "execute_result"
    }
   ],
   "source": [
    "dfs = query_api.query_data_frame('from(bucket:\"modicumdb\") '\n",
    "                                 '|> range(start: -36h) '\n",
    "                                 '|> filter(fn: (r) => r._measurement == \"Events\")')\n",
    "df = pd.concat(dfs, ignore_index=True)\n",
    "df = df.sort_values(by=['_time'], ascending=True)\n",
    "first_time = df.iloc[0]['_time']\n",
    "df['time_ms'] = df['_time'].apply(lambda x: (x - first_time).total_seconds() * 1000)\n",
    "df = df[['time_ms', '_measurement', '_field', '_value', 'uuid', '_time']]\n",
    "#df['offer_num'] = df['uuid'].apply(lambda x: int(x.split(\"_\")[-1]))\n",
    "df['entity'] = df['uuid'].apply(lambda x: x.split(\"_\")[0])\n",
    "#df['entity_id'] = df['uuid'].apply(lambda x: x.split(\"_\")[1])\n",
    "print(f\"length of df: {len(df)}\")\n",
    "print(f\"Unique _measurement: {df['_measurement'].unique()}\")\n",
    "print(f\"Unique _field: {df['_field'].unique()}\")\n",
    "df.head(1)"
   ]
  },
  {
   "cell_type": "code",
   "execution_count": 12,
   "id": "1631c785",
   "metadata": {},
   "outputs": [],
   "source": [
    "file_path = os.path.join(os.getcwd(), \"demo_results\", \"raw_influx\", \"20-10-lazy.csv\")\n",
    "df.to_csv(file_path, index=False)"
   ]
  },
  {
   "cell_type": "code",
   "execution_count": 10,
   "id": "2fc0e18c",
   "metadata": {},
   "outputs": [
    {
     "name": "stdout",
     "output_type": "stream",
     "text": [
      "40\n"
     ]
    },
    {
     "data": {
      "text/html": [
       "<div>\n",
       "<style scoped>\n",
       "    .dataframe tbody tr th:only-of-type {\n",
       "        vertical-align: middle;\n",
       "    }\n",
       "\n",
       "    .dataframe tbody tr th {\n",
       "        vertical-align: top;\n",
       "    }\n",
       "\n",
       "    .dataframe thead th {\n",
       "        text-align: right;\n",
       "    }\n",
       "</style>\n",
       "<table border=\"1\" class=\"dataframe\">\n",
       "  <thead>\n",
       "    <tr style=\"text-align: right;\">\n",
       "      <th></th>\n",
       "      <th>time_ms</th>\n",
       "      <th>_measurement</th>\n",
       "      <th>_field</th>\n",
       "      <th>_value</th>\n",
       "      <th>uuid</th>\n",
       "      <th>_time</th>\n",
       "      <th>entity</th>\n",
       "    </tr>\n",
       "  </thead>\n",
       "  <tbody>\n",
       "    <tr>\n",
       "      <th>527</th>\n",
       "      <td>0.000</td>\n",
       "      <td>Events</td>\n",
       "      <td>state</td>\n",
       "      <td>1</td>\n",
       "      <td>supplier_978c7a496492499c8632e3e423bee8a2_offer_0</td>\n",
       "      <td>2021-11-20 18:58:06.465628+00:00</td>\n",
       "      <td>supplier</td>\n",
       "    </tr>\n",
       "    <tr>\n",
       "      <th>831</th>\n",
       "      <td>2.939</td>\n",
       "      <td>Events</td>\n",
       "      <td>state</td>\n",
       "      <td>1</td>\n",
       "      <td>customer_9f60568f562b4437836833eb94284607_offer_0</td>\n",
       "      <td>2021-11-20 18:58:06.468567+00:00</td>\n",
       "      <td>customer</td>\n",
       "    </tr>\n",
       "  </tbody>\n",
       "</table>\n",
       "</div>"
      ],
      "text/plain": [
       "     time_ms _measurement _field _value  \\\n",
       "527    0.000       Events  state      1   \n",
       "831    2.939       Events  state      1   \n",
       "\n",
       "                                                  uuid  \\\n",
       "527  supplier_978c7a496492499c8632e3e423bee8a2_offer_0   \n",
       "831  customer_9f60568f562b4437836833eb94284607_offer_0   \n",
       "\n",
       "                               _time    entity  \n",
       "527 2021-11-20 18:58:06.465628+00:00  supplier  \n",
       "831 2021-11-20 18:58:06.468567+00:00  customer  "
      ]
     },
     "execution_count": 10,
     "metadata": {},
     "output_type": "execute_result"
    }
   ],
   "source": [
    "state = df[df['_field']=='state']\n",
    "completed_uuids = state[state['_value']==11]['uuid'].unique().tolist()\n",
    "print(len(completed_uuids))\n",
    "sender = df[df['_field']=='sender']\n",
    "allocation = df[df['_field']=='allocation']\n",
    "state.head(2)"
   ]
  },
  {
   "cell_type": "markdown",
   "id": "ca6aeb54",
   "metadata": {},
   "source": [
    "# Pulsar"
   ]
  },
  {
   "cell_type": "code",
   "execution_count": 12,
   "id": "ec8863f7",
   "metadata": {},
   "outputs": [],
   "source": [
    "#import pulsar\n",
    "import requests\n",
    "import prestodb\n",
    "import pandas as pd"
   ]
  },
  {
   "cell_type": "code",
   "execution_count": 4,
   "id": "ee70f2d5",
   "metadata": {},
   "outputs": [],
   "source": [
    "url = \"pulsar://34.139.254.218:6650\"\n",
    "admin_url = \"http://34.139.254.218:80/admin/v2\"\n",
    "presto_host = \"34.139.254.218\"\n",
    "presto_port = 8081\n",
    "tenant = \"public\"\n",
    "namespace = \"default\""
   ]
  },
  {
   "cell_type": "code",
   "execution_count": 6,
   "id": "78bd4899",
   "metadata": {},
   "outputs": [
    {
     "name": "stdout",
     "output_type": "stream",
     "text": [
      "http://34.139.254.218:80/admin/v2/tenants\n"
     ]
    },
    {
     "data": {
      "text/plain": [
       "['customer_019d86c542dd49c5a8701facebfdeeec_offer_0',\n",
       " 'customer_02654232d9014521baa848ee6bd95f62_offer_0',\n",
       " 'customer_02c2db674c1e40e6b69d635cc0760d80_offer_0',\n",
       " 'customer_055546878d154f98a3e9077956cfcc70_offer_0',\n",
       " 'customer_06a068ff8c7e4540ba47aae84b7a0334_offer_0',\n",
       " 'customer_071859f31e924313bd462ebd63efc129_offer_0',\n",
       " 'customer_07ec8b82c2234b9db4c45edcc05a43fd_offer_0',\n",
       " 'customer_0aa9a012411e499cacaa241e432403c7_offer_0',\n",
       " 'customer_0d62413d506a4e889fec17b1385027d2_offer_0',\n",
       " 'customer_14051782af6341ba87f0080349d4adc8_offer_0',\n",
       " 'customer_1521666b00cf4ac6b10b6c18354efb4c_offer_0',\n",
       " 'customer_173a20b39ac14efdaca8351642877aab_offer_0',\n",
       " 'customer_18a6df1451b946b2ae1811a69f2adb31_offer_0',\n",
       " 'customer_18e24148e4334c1da241b9a868028f20_offer_0',\n",
       " 'customer_1c5d271225b840c388834461cd8204b0_offer_0',\n",
       " 'customer_1db76d0d62204a628f09fd494d69e326_offer_0',\n",
       " 'customer_2018422e3635406fb7a2682844c2facf_offer_0',\n",
       " 'customer_204ff94375e34fb0ac9d10d6ad994308_offer_0',\n",
       " 'customer_21478287fdaa4c3eb99ee0627564cc2e_offer_0',\n",
       " 'customer_2355a71476a64df1a27ce67a83dabb52_offer_0',\n",
       " 'customer_2356f045575e49b78ad829ee2d7f0a98_offer_0',\n",
       " 'customer_251dc9c70a504bc7b2ce9ff2c16a84f0_offer_0',\n",
       " 'customer_272aea43e7eb42e396ad1f361d4a08c2_offer_0',\n",
       " 'customer_280bd2a8a1424e3ebb7133533a9e5e2d_offer_0',\n",
       " 'customer_28d35bf063ab467897acf1ceacafa922_offer_0',\n",
       " 'customer_29eec3a9b1e84dacb6db5669e08775a4_offer_0',\n",
       " 'customer_2dac995e5b154f0eb6186a32ad3a8e41_offer_0',\n",
       " 'customer_2dd036dec11f487abadcaafc8539b9d8_offer_0',\n",
       " 'customer_2e6837ade168453d9f257372562a3449_offer_0',\n",
       " 'customer_2f38edec422a4381b3c2b7af8f43d444_offer_0',\n",
       " 'customer_3132ddea002f455580aa475f30906ff9_offer_0',\n",
       " 'customer_32a31e44b7cb42c4b9b8709f3fc97a76_offer_0',\n",
       " 'customer_34d299a074f345b0a7ac44bd4b4d347d_offer_0',\n",
       " 'customer_375786e9a95649f4984b97d42b39a5bb_offer_0',\n",
       " 'customer_3779c6dcb19b4d998add9fa1000fd30c_offer_0',\n",
       " 'customer_3c00c20073e249f0b223d23a69dca63b_offer_0',\n",
       " 'customer_415e3e0a98fc4d468f76e4b9721f5deb_offer_0',\n",
       " 'customer_42aaa1f20020475faa9623c23412dc62_offer_0',\n",
       " 'customer_42d1eff237d343739cca1dc0587770a7_offer_0',\n",
       " 'customer_43253ff402834598a9441e4355d504a8_offer_0',\n",
       " 'customer_43785ce9de6e41c19bb10b42790964b5_offer_0',\n",
       " 'customer_44745657a39b47e49ab1de87bea6aeca_offer_0',\n",
       " 'customer_46e18661108f4d6083a3a1f8b1a09f31_offer_0',\n",
       " 'customer_46f195d201414c67b6546e732e4ed0e9_offer_0',\n",
       " 'customer_48308346d66e422185c734eedc2e1146_offer_0',\n",
       " 'customer_4a182a2258b846768205c8128d8c9270_offer_0',\n",
       " 'customer_5341555862df456d9f82777a68f5772c_offer_0',\n",
       " 'customer_584817f6dca3420a85e93a1560830abe_offer_0',\n",
       " 'customer_5991f3c51d544ded81ef8bce30e9a619_offer_0',\n",
       " 'customer_59cb4bc6b3454d0fbb623a657784b659_offer_0',\n",
       " 'customer_5b78dc31378a4856847d447706f5c0ef_offer_0',\n",
       " 'customer_5d8a3a62423147608ca74ced8e2e4c6b_offer_0',\n",
       " 'customer_5eadd0327f6d4bf284d0abbae3bf5943_offer_0',\n",
       " 'customer_5fadf972fe094ebfb627e7862fecc83b_offer_0',\n",
       " 'customer_600fc8e8754b4af3b8a1fe5ad936e78a_offer_0',\n",
       " 'customer_615d59ce79984dd1bfbfb3257a4c53fb_offer_0',\n",
       " 'customer_619b0ca7605d488fa68cd245d1a3e810_offer_0',\n",
       " 'customer_63cb17a279d2413c948cb187d24fa6a0_offer_0',\n",
       " 'customer_65ddda838b064d4eac39f1e2abba0183_offer_0',\n",
       " 'customer_66be935f173e4897bd0de222a0ea6031_offer_0',\n",
       " 'customer_678bceab75b04144a7b89960be0bc6a1_offer_0',\n",
       " 'customer_696136fc3c8847de852c8b5df53811c3_offer_0',\n",
       " 'customer_6c0c3ffe3c2243dc9b9479b84cd461c9_offer_0',\n",
       " 'customer_6e006579021b46cc8a80124b7f91cec7_offer_0',\n",
       " 'customer_6f83b00545634569a8a75006543831c3_offer_0',\n",
       " 'customer_6faa4b6f85054da1aa4f9c643755f8e0_offer_0',\n",
       " 'customer_71dbf2adcd37487bb1724ec5af6a9679_offer_0',\n",
       " 'customer_729670f850de4936b28c8f4955ed0e23_offer_0',\n",
       " 'customer_7378d26cead648cb97a79e84d47c7444_offer_0',\n",
       " 'customer_7ab706caa6a241779ce628b81db198da_offer_0',\n",
       " 'customer_7c022995c1b1415d8d4549eae009fdf8_offer_0',\n",
       " 'customer_7eadbb1df6954535bdec3974c3b3ce4a_offer_0',\n",
       " 'customer_7fae910ef9974b74826798eafc0479ee_offer_0',\n",
       " 'customer_7fb6f3e8d2fc4ac999cd55d4b7ec80d7_offer_0',\n",
       " 'customer_8008e84e0e8344c184a1b6ca0f3843ad_offer_0',\n",
       " 'customer_81b05de5c8b3447392a8c2084a54669b_offer_0',\n",
       " 'customer_81f0c9a45d6b4255ac388885be3e0064_offer_0',\n",
       " 'customer_8248231cb7e34ec3998d5b52ed5e24a8_offer_0',\n",
       " 'customer_84dffa84bac84dc1ba21320a355d6b0d_offer_0',\n",
       " 'customer_86eec489034648acac79bd495ddbb4e3_offer_0',\n",
       " 'customer_87451dc2648c446baf1f0484a3fc18ac_offer_0',\n",
       " 'customer_8948c16b6c7c42e6aea033bfa1b67707_offer_0',\n",
       " 'customer_8b2f56af585c4ca7a1cc91ba9297cd62_offer_0',\n",
       " 'customer_9138cff87cff42beb903bd5589a51f18_offer_0',\n",
       " 'customer_91e726a3b59e4f2db78113f5fcbea37e_offer_0',\n",
       " 'customer_923adc131c1744838c0318b50f7c73ef_offer_0',\n",
       " 'customer_955cde3e0e204653a5b676368788ba6b_offer_0',\n",
       " 'customer_9fffc98fc6f24015a861865ed1b2d6f1_offer_0',\n",
       " 'customer_a06ba7902bdc407d9fb8fef055ccc1cb_offer_0',\n",
       " 'customer_a4b3c9350fb748d6935fed73533b2039_offer_0',\n",
       " 'customer_a751040b0cbc434fb747873e5fafa62a_offer_0',\n",
       " 'customer_a77f2ecb1ea14b8abe0227ee4ccd0c2a_offer_0',\n",
       " 'customer_ad393335389b40db9994506b1fa80fa9_offer_0',\n",
       " 'customer_ad627734602448e8b191e3832f74e338_offer_0',\n",
       " 'customer_af745f5d34004e5eaef2cf8c70e09702_offer_0',\n",
       " 'customer_b1cf9aa81ac84a559c2edb988f8b1a77_offer_0',\n",
       " 'customer_b1db5174f6ce475d9c7e86ed16121955_offer_0',\n",
       " 'customer_b49916dc19524b1a95b0b489264b01e5_offer_0',\n",
       " 'customer_b4a9f47d59cb4ca390d0bb8acfc9a390_offer_0',\n",
       " 'customer_b5a2fef14be64a2c8ea9e68a9f7ed026_offer_0',\n",
       " 'customer_bbace06c4eee4e91ac3b0c064dc4e6e0_offer_0',\n",
       " 'customer_bf11cc7f96a54f2b985386caa3eba2f0_offer_0',\n",
       " 'customer_bf1d8fdb610a4cd89dc8634dd319609e_offer_0',\n",
       " 'customer_c1e4c42706fc437580b5b4b3b6858fe6_offer_0',\n",
       " 'customer_c34b49b110c842f2a966da9d43084b87_offer_0',\n",
       " 'customer_cafe0020f89542fa9bb069019f57caa8_offer_0',\n",
       " 'customer_cbde2ca9945149788ebe6c0264f1cf2b_offer_0',\n",
       " 'customer_cc7c9da8928b40d3ba34710dc7ba47e5_offer_0',\n",
       " 'customer_ce7e69862f084a8381e1b5defc68c43c_offer_0',\n",
       " 'customer_cf7415f6536a4d02bc291480ee354698_offer_0',\n",
       " 'customer_d1f5066b303f4cfcb39b14b37eb91d2d_offer_0',\n",
       " 'customer_d34630e7c20d449f845935290bd1cacf_offer_0',\n",
       " 'customer_d9b11908d7634a439c266fc814d5951d_offer_0',\n",
       " 'customer_dadb7143968f4decad22e6e11bc8534c_offer_0',\n",
       " 'customer_db023d95070d4890ae9687791e944f43_offer_0',\n",
       " 'customer_e07d13f3c7bf4205b9d428e970668700_offer_0',\n",
       " 'customer_e19ec90a7b0f4be0ac657aa84f1a6086_offer_0',\n",
       " 'customer_e2b2579e657c47158eae5420a726817a_offer_0',\n",
       " 'customer_e511c59665bb42f295cf3f972e3ee6bb_offer_0',\n",
       " 'customer_e55532ca43c840cca988f0e9ff9f2b30_offer_0',\n",
       " 'customer_eac80ebaeeb445de95b054d7ea0fc502_offer_0',\n",
       " 'customer_ecb5ff2e273a4f70b780cbba8942fa25_offer_0',\n",
       " 'customer_ed4681fe739648f3956f5ae663ea7837_offer_0',\n",
       " 'customer_ef4bc8d104f04948834d13ff52317df9_offer_0',\n",
       " 'customer_f0986368af8e4c2891916e363de3f573_offer_0',\n",
       " 'customer_f619eebb474f4ba2bfcc240577dd26e3_offer_0',\n",
       " 'customer_f798855e4f05413099b350e48b42a229_offer_0',\n",
       " 'customer_f8e8a5540ff7415ca69986e8695145bc_offer_0',\n",
       " 'customer_fc2d06ead5cc4d3cb2cb1a024be375c1_offer_0',\n",
       " 'customer_ffd833d440ea4ed699fd52c75f32f33d_offer_0',\n",
       " 'public',\n",
       " 'pulsar']"
      ]
     },
     "execution_count": 6,
     "metadata": {},
     "output_type": "execute_result"
    }
   ],
   "source": [
    "request = f\"{admin_url}/tenants\"\n",
    "print(request)\n",
    "r = requests.get(request)\n",
    "r.json()"
   ]
  },
  {
   "cell_type": "code",
   "execution_count": 8,
   "id": "b7fb9c77",
   "metadata": {},
   "outputs": [
    {
     "name": "stdout",
     "output_type": "stream",
     "text": [
      "http://34.139.254.218:80/admin/v2/namespaces/public\n"
     ]
    },
    {
     "data": {
      "text/plain": [
       "['public/default',\n",
       " 'public/functions',\n",
       " 'public/market_1',\n",
       " 'public/market_2',\n",
       " 'public/market_3',\n",
       " 'public/market_5',\n",
       " 'public/market_6',\n",
       " 'public/market_7',\n",
       " 'public/market_8']"
      ]
     },
     "execution_count": 8,
     "metadata": {},
     "output_type": "execute_result"
    }
   ],
   "source": [
    "request = f\"{admin_url}/namespaces/public\"\n",
    "print(request)\n",
    "r = requests.get(request)\n",
    "r.json()"
   ]
  },
  {
   "cell_type": "code",
   "execution_count": 9,
   "id": "213b1c2a",
   "metadata": {},
   "outputs": [
    {
     "name": "stdout",
     "output_type": "stream",
     "text": [
      "http://34.139.254.218:80/admin/v2/namespaces/customer_019d86c542dd49c5a8701facebfdeeec_offer_0\n"
     ]
    },
    {
     "data": {
      "text/plain": [
       "['customer_019d86c542dd49c5a8701facebfdeeec_offer_0/market_6']"
      ]
     },
     "execution_count": 9,
     "metadata": {},
     "output_type": "execute_result"
    }
   ],
   "source": [
    "request = f\"{admin_url}/namespaces/customer_019d86c542dd49c5a8701facebfdeeec_offer_0\"\n",
    "print(request)\n",
    "r = requests.get(request)\n",
    "r.json()"
   ]
  },
  {
   "cell_type": "code",
   "execution_count": 23,
   "id": "e5803f96",
   "metadata": {},
   "outputs": [
    {
     "name": "stdout",
     "output_type": "stream",
     "text": [
      "http://34.139.254.218:80/admin/v2/persistent/customer_019d86c542dd49c5a8701facebfdeeec_offer_0/market_6\n"
     ]
    },
    {
     "data": {
      "text/plain": [
       "['persistent://customer_019d86c542dd49c5a8701facebfdeeec_offer_0/market_6/app_allocation_10',\n",
       " 'persistent://customer_019d86c542dd49c5a8701facebfdeeec_offer_0/market_6/checklist_allocation_10',\n",
       " 'persistent://customer_019d86c542dd49c5a8701facebfdeeec_offer_0/market_6/cleanup_allocation_10',\n",
       " 'persistent://customer_019d86c542dd49c5a8701facebfdeeec_offer_0/market_6/input_allocation_10',\n",
       " 'persistent://customer_019d86c542dd49c5a8701facebfdeeec_offer_0/market_6/output_allocation_10']"
      ]
     },
     "execution_count": 23,
     "metadata": {},
     "output_type": "execute_result"
    }
   ],
   "source": [
    "request = f\"{admin_url}/persistent/customer_019d86c542dd49c5a8701facebfdeeec_offer_0/market_6\"\n",
    "print(request)\n",
    "r = requests.get(request)\n",
    "r.json()"
   ]
  },
  {
   "cell_type": "code",
   "execution_count": 24,
   "id": "b8456593",
   "metadata": {},
   "outputs": [
    {
     "name": "stdout",
     "output_type": "stream",
     "text": [
      "http://34.139.254.218:80/admin/v2/persistent/customer_019d86c542dd49c5a8701facebfdeeec_offer_0/market_6/input_allocation_10/internalStats\n"
     ]
    },
    {
     "data": {
      "text/plain": [
       "{'entriesAddedCounter': 51,\n",
       " 'numberOfEntries': 0,\n",
       " 'totalSize': 0,\n",
       " 'currentLedgerEntries': 0,\n",
       " 'currentLedgerSize': 0,\n",
       " 'lastLedgerCreatedTimestamp': '2021-11-20T07:30:35.619Z',\n",
       " 'waitingCursorsCount': 2,\n",
       " 'pendingAddEntriesCount': 0,\n",
       " 'lastConfirmedEntry': '2860:50',\n",
       " 'state': 'LedgerOpened',\n",
       " 'ledgers': [{'ledgerId': 4140,\n",
       "   'entries': 0,\n",
       "   'size': 0,\n",
       "   'offloaded': False,\n",
       "   'underReplicated': False}],\n",
       " 'cursors': {'reader-91eefdde55': {'markDeletePosition': '2860:-1',\n",
       "   'readPosition': '4140:0',\n",
       "   'waitingReadOp': True,\n",
       "   'pendingReadOps': 0,\n",
       "   'messagesConsumedCounter': 0,\n",
       "   'cursorLedger': -1,\n",
       "   'cursorLedgerLastEntry': -1,\n",
       "   'individuallyDeletedMessages': '[]',\n",
       "   'lastLedgerSwitchTimestamp': '2021-11-20T18:21:57.486Z',\n",
       "   'state': 'Uninitialized',\n",
       "   'numberOfEntriesSinceFirstNotAckedMessage': 1,\n",
       "   'totalNonContiguousDeletedMessagesRange': 0,\n",
       "   'properties': {}},\n",
       "  'supplier_f4b3f8bb546a4d10866144bbbe5ab5e9-input_allocation_10': {'markDeletePosition': '2860:50',\n",
       "   'readPosition': '2860:51',\n",
       "   'waitingReadOp': False,\n",
       "   'pendingReadOps': 0,\n",
       "   'messagesConsumedCounter': 51,\n",
       "   'cursorLedger': 2862,\n",
       "   'cursorLedgerLastEntry': 51,\n",
       "   'individuallyDeletedMessages': '[]',\n",
       "   'lastLedgerSwitchTimestamp': '2021-11-20T01:39:19.757Z',\n",
       "   'state': 'Open',\n",
       "   'numberOfEntriesSinceFirstNotAckedMessage': 1,\n",
       "   'totalNonContiguousDeletedMessagesRange': 0,\n",
       "   'properties': {}}},\n",
       " 'schemaLedgers': [{'ledgerId': 2861,\n",
       "   'entries': 1,\n",
       "   'size': 601,\n",
       "   'offloaded': False,\n",
       "   'underReplicated': False}],\n",
       " 'compactedLedger': {'ledgerId': -1,\n",
       "  'entries': -1,\n",
       "  'size': -1,\n",
       "  'offloaded': False,\n",
       "  'underReplicated': False}}"
      ]
     },
     "execution_count": 24,
     "metadata": {},
     "output_type": "execute_result"
    },
    {
     "name": "stdout",
     "output_type": "stream",
     "text": [
      "2021-11-20 12:31:23.589 INFO  [0x70001205b000] ConsumerStatsImpl:70 | Consumer [persistent://customer_019d86c542dd49c5a8701facebfdeeec_offer_0/market_6/app_allocation_10, reader-fc43190516, 0] , ConsumerStatsImpl (numBytesRecieved_ = 0, totalNumBytesRecieved_ = 0, receivedMsgMap_ = {}, ackedMsgMap_ = {}, totalReceivedMsgMap_ = {}, totalAckedMsgMap_ = {})\n",
      "2021-11-20 12:31:57.393 INFO  [0x70001205b000] ConsumerStatsImpl:70 | Consumer [persistent://customer_019d86c542dd49c5a8701facebfdeeec_offer_0/market_6/input_allocation_10, reader-91eefdde55, 1] , ConsumerStatsImpl (numBytesRecieved_ = 0, totalNumBytesRecieved_ = 0, receivedMsgMap_ = {[Key: TimeOut, Value: 2610], }, ackedMsgMap_ = {}, totalReceivedMsgMap_ = {[Key: TimeOut, Value: 2610], }, totalAckedMsgMap_ = {})\n"
     ]
    }
   ],
   "source": [
    "request = f\"{admin_url}/persistent/customer_019d86c542dd49c5a8701facebfdeeec_offer_0/market_6/input_allocation_10/internalStats\"\n",
    "print(request)\n",
    "r = requests.get(request)\n",
    "r.json()"
   ]
  },
  {
   "cell_type": "code",
   "execution_count": 33,
   "id": "70f13fc4",
   "metadata": {},
   "outputs": [],
   "source": [
    "import pulsar"
   ]
  },
  {
   "cell_type": "code",
   "execution_count": 29,
   "id": "bc5e92c5",
   "metadata": {},
   "outputs": [],
   "source": [
    "import schema"
   ]
  },
  {
   "cell_type": "code",
   "execution_count": 34,
   "id": "0f680a11",
   "metadata": {},
   "outputs": [],
   "source": [
    "client = pulsar.Client(url)"
   ]
  },
  {
   "cell_type": "code",
   "execution_count": 38,
   "id": "9b214362",
   "metadata": {},
   "outputs": [
    {
     "ename": "TypeError",
     "evalue": "create_reader() got an unexpected keyword argument 'initial_position'",
     "output_type": "error",
     "traceback": [
      "\u001b[0;31m---------------------------------------------------------------------------\u001b[0m",
      "\u001b[0;31mTypeError\u001b[0m                                 Traceback (most recent call last)",
      "\u001b[0;32m/var/folders/hv/kdmqg5vj5md4yrk4p96h43tm0000gn/T/ipykernel_2329/4177851755.py\u001b[0m in \u001b[0;36m<module>\u001b[0;34m\u001b[0m\n\u001b[1;32m      4\u001b[0m \u001b[0;34m\u001b[0m\u001b[0m\n\u001b[1;32m      5\u001b[0m \u001b[0;31m#reader = client.create_reader(f\"persistent://{tenant}/{namespace}{topic}\", pulsar.MessageId.earliest)\u001b[0m\u001b[0;34m\u001b[0m\u001b[0;34m\u001b[0m\u001b[0;34m\u001b[0m\u001b[0m\n\u001b[0;32m----> 6\u001b[0;31m \u001b[0mreader\u001b[0m \u001b[0;34m=\u001b[0m \u001b[0mclient\u001b[0m\u001b[0;34m.\u001b[0m\u001b[0mcreate_reader\u001b[0m\u001b[0;34m(\u001b[0m\u001b[0;34m'persistent://customer_019d86c542dd49c5a8701facebfdeeec_offer_0/market_6/input_allocation_10'\u001b[0m\u001b[0;34m,\u001b[0m \u001b[0minitial_position\u001b[0m\u001b[0;34m=\u001b[0m\u001b[0mpulsar\u001b[0m\u001b[0;34m.\u001b[0m\u001b[0mMessageId\u001b[0m\u001b[0;34m.\u001b[0m\u001b[0mearliest\u001b[0m\u001b[0;34m,\u001b[0m \u001b[0mschema\u001b[0m\u001b[0;34m=\u001b[0m\u001b[0mpulsar\u001b[0m\u001b[0;34m.\u001b[0m\u001b[0mschema\u001b[0m\u001b[0;34m.\u001b[0m\u001b[0mAvroSchema\u001b[0m\u001b[0;34m(\u001b[0m\u001b[0mschema\u001b[0m\u001b[0;34m.\u001b[0m\u001b[0mInputDataSchema\u001b[0m\u001b[0;34m)\u001b[0m\u001b[0;34m)\u001b[0m\u001b[0;34m\u001b[0m\u001b[0;34m\u001b[0m\u001b[0m\n\u001b[0m\u001b[1;32m      7\u001b[0m \u001b[0;34m\u001b[0m\u001b[0m\n",
      "\u001b[0;31mTypeError\u001b[0m: create_reader() got an unexpected keyword argument 'initial_position'"
     ]
    }
   ],
   "source": [
    "tenant = 'customer_019d86c542dd49c5a8701facebfdeeec_offer_0'\n",
    "namespace = 'market_6'\n",
    "topic = 'input_allocation_10'\n",
    "\n",
    "#reader = client.create_reader(f\"persistent://{tenant}/{namespace}{topic}\", pulsar.MessageId.earliest)\n",
    "reader = client.create_reader('persistent://customer_019d86c542dd49c5a8701facebfdeeec_offer_0/market_6/input_allocation_10', pulsar.MessageId.earliest, schema=pulsar.schema.AvroSchema(schema.InputDataSchema))\n",
    "\n"
   ]
  },
  {
   "cell_type": "code",
   "execution_count": 40,
   "id": "27ebf567",
   "metadata": {},
   "outputs": [
    {
     "name": "stdout",
     "output_type": "stream",
     "text": [
      "2021-11-20 12:48:08.930 INFO  [0x10ccb8e00] Client:88 | Subscribing on Topic :persistent://customer_019d86c542dd49c5a8701facebfdeeec_offer_0/market_6/input_allocation_10\n",
      "2021-11-20 12:48:08.976 INFO  [0x7000121e4000] HandlerBase:54 | [persistent://customer_019d86c542dd49c5a8701facebfdeeec_offer_0/market_6/input_allocation_10, testread, 1] Getting connection from pool\n",
      "2021-11-20 12:48:09.095 INFO  [0x7000121e4000] ConsumerImpl:220 | [persistent://customer_019d86c542dd49c5a8701facebfdeeec_offer_0/market_6/input_allocation_10, testread, 1] Created consumer on broker [10.0.0.166:53409 -> 34.139.254.218:6650] \n"
     ]
    }
   ],
   "source": [
    "consumer = client.subscribe('persistent://customer_019d86c542dd49c5a8701facebfdeeec_offer_0/market_6/input_allocation_10', subscription_name='testread', initial_position=pulsar.InitialPosition.Earliest, schema=pulsar.schema.AvroSchema(schema.InputDataSchema))\n"
   ]
  },
  {
   "cell_type": "code",
   "execution_count": null,
   "id": "f9a475cd",
   "metadata": {},
   "outputs": [],
   "source": [
    "while True:\n",
    "    msg = consumer.receive()\n",
    "    try:\n",
    "        print(\"Received message '{}' id='{}'\".format(msg.data(), msg.message_id()))\n",
    "        # Acknowledge successful processing of the message\n",
    "        consumer.acknowledge(msg)\n",
    "    except:\n",
    "        # Message failed to be processed\n",
    "        consumer.negative_acknowledge(msg)"
   ]
  },
  {
   "cell_type": "code",
   "execution_count": 36,
   "id": "5edc56ef",
   "metadata": {},
   "outputs": [
    {
     "name": "stdout",
     "output_type": "stream",
     "text": [
      "2021-11-20 12:40:50.619 WARN  [0x7000121e4000] ClientConnection:971 | [10.0.0.166:53409 -> 34.139.254.218:6650] Received error response from server: BrokerMetadataError -- req_id: 1\n"
     ]
    },
    {
     "ename": "Exception",
     "evalue": "Pulsar error: BrokerMetadataError",
     "output_type": "error",
     "traceback": [
      "\u001b[0;31m---------------------------------------------------------------------------\u001b[0m",
      "\u001b[0;31mException\u001b[0m                                 Traceback (most recent call last)",
      "\u001b[0;32m/var/folders/hv/kdmqg5vj5md4yrk4p96h43tm0000gn/T/ipykernel_2329/1328144627.py\u001b[0m in \u001b[0;36m<module>\u001b[0;34m\u001b[0m\n\u001b[0;32m----> 1\u001b[0;31m \u001b[0mreader\u001b[0m\u001b[0;34m.\u001b[0m\u001b[0mhas_message_available\u001b[0m\u001b[0;34m(\u001b[0m\u001b[0;34m)\u001b[0m\u001b[0;34m\u001b[0m\u001b[0;34m\u001b[0m\u001b[0m\n\u001b[0m",
      "\u001b[0;32m/Volumes/external_drive/Code/MV2/env/lib/python3.8/site-packages/pulsar/__init__.py\u001b[0m in \u001b[0;36mhas_message_available\u001b[0;34m(self)\u001b[0m\n\u001b[1;32m   1223\u001b[0m         \u001b[0mCheck\u001b[0m \u001b[0;32mif\u001b[0m \u001b[0mthere\u001b[0m \u001b[0;32mis\u001b[0m \u001b[0many\u001b[0m \u001b[0mmessage\u001b[0m \u001b[0mavailable\u001b[0m \u001b[0mto\u001b[0m \u001b[0mread\u001b[0m \u001b[0;32mfrom\u001b[0m \u001b[0mthe\u001b[0m \u001b[0mcurrent\u001b[0m \u001b[0mposition\u001b[0m\u001b[0;34m.\u001b[0m\u001b[0;34m\u001b[0m\u001b[0;34m\u001b[0m\u001b[0m\n\u001b[1;32m   1224\u001b[0m         \"\"\"\n\u001b[0;32m-> 1225\u001b[0;31m         \u001b[0;32mreturn\u001b[0m \u001b[0mself\u001b[0m\u001b[0;34m.\u001b[0m\u001b[0m_reader\u001b[0m\u001b[0;34m.\u001b[0m\u001b[0mhas_message_available\u001b[0m\u001b[0;34m(\u001b[0m\u001b[0;34m)\u001b[0m\u001b[0;34m;\u001b[0m\u001b[0;34m\u001b[0m\u001b[0;34m\u001b[0m\u001b[0m\n\u001b[0m\u001b[1;32m   1226\u001b[0m \u001b[0;34m\u001b[0m\u001b[0m\n\u001b[1;32m   1227\u001b[0m     \u001b[0;32mdef\u001b[0m \u001b[0mseek\u001b[0m\u001b[0;34m(\u001b[0m\u001b[0mself\u001b[0m\u001b[0;34m,\u001b[0m \u001b[0mmessageid\u001b[0m\u001b[0;34m)\u001b[0m\u001b[0;34m:\u001b[0m\u001b[0;34m\u001b[0m\u001b[0;34m\u001b[0m\u001b[0m\n",
      "\u001b[0;31mException\u001b[0m: Pulsar error: BrokerMetadataError"
     ]
    }
   ],
   "source": [
    "reader.has_message_available()"
   ]
  },
  {
   "cell_type": "code",
   "execution_count": 37,
   "id": "d6b51402",
   "metadata": {},
   "outputs": [
    {
     "name": "stdout",
     "output_type": "stream",
     "text": [
      "2021-11-20 12:41:23.593 INFO  [0x70001205b000] ConsumerStatsImpl:70 | Consumer [persistent://customer_019d86c542dd49c5a8701facebfdeeec_offer_0/market_6/app_allocation_10, reader-fc43190516, 0] , ConsumerStatsImpl (numBytesRecieved_ = 0, totalNumBytesRecieved_ = 0, receivedMsgMap_ = {}, ackedMsgMap_ = {}, totalReceivedMsgMap_ = {}, totalAckedMsgMap_ = {})\n"
     ]
    },
    {
     "ename": "SystemError",
     "evalue": "",
     "output_type": "error",
     "traceback": [
      "\u001b[0;31m---------------------------------------------------------------------------\u001b[0m",
      "\u001b[0;31mKeyboardInterrupt\u001b[0m                         Traceback (most recent call last)",
      "\u001b[0;31mKeyboardInterrupt\u001b[0m: ",
      "\nThe above exception was the direct cause of the following exception:\n",
      "\u001b[0;31mSystemError\u001b[0m                               Traceback (most recent call last)",
      "\u001b[0;32m/var/folders/hv/kdmqg5vj5md4yrk4p96h43tm0000gn/T/ipykernel_2329/3199702728.py\u001b[0m in \u001b[0;36m<module>\u001b[0;34m\u001b[0m\n\u001b[1;32m      1\u001b[0m \u001b[0mresults\u001b[0m \u001b[0;34m=\u001b[0m \u001b[0;34m[\u001b[0m\u001b[0;34m]\u001b[0m\u001b[0;34m\u001b[0m\u001b[0;34m\u001b[0m\u001b[0m\n\u001b[1;32m      2\u001b[0m \u001b[0;32mwhile\u001b[0m \u001b[0;32mTrue\u001b[0m\u001b[0;34m:\u001b[0m\u001b[0;34m\u001b[0m\u001b[0;34m\u001b[0m\u001b[0m\n\u001b[0;32m----> 3\u001b[0;31m     \u001b[0mmsg\u001b[0m \u001b[0;34m=\u001b[0m \u001b[0mreader\u001b[0m\u001b[0;34m.\u001b[0m\u001b[0mread_next\u001b[0m\u001b[0;34m(\u001b[0m\u001b[0;34m)\u001b[0m\u001b[0;34m\u001b[0m\u001b[0;34m\u001b[0m\u001b[0m\n\u001b[0m\u001b[1;32m      4\u001b[0m     \u001b[0mresults\u001b[0m\u001b[0;34m.\u001b[0m\u001b[0mappend\u001b[0m\u001b[0;34m(\u001b[0m\u001b[0mmsg\u001b[0m\u001b[0;34m.\u001b[0m\u001b[0mdata\u001b[0m\u001b[0;34m(\u001b[0m\u001b[0;34m)\u001b[0m\u001b[0;34m)\u001b[0m\u001b[0;34m\u001b[0m\u001b[0;34m\u001b[0m\u001b[0m\n\u001b[1;32m      5\u001b[0m     \u001b[0mprint\u001b[0m\u001b[0;34m(\u001b[0m\u001b[0;34m\"Received message '{}' id='{}'\"\u001b[0m\u001b[0;34m.\u001b[0m\u001b[0mformat\u001b[0m\u001b[0;34m(\u001b[0m\u001b[0mmsg\u001b[0m\u001b[0;34m.\u001b[0m\u001b[0mdata\u001b[0m\u001b[0;34m(\u001b[0m\u001b[0;34m)\u001b[0m\u001b[0;34m,\u001b[0m \u001b[0mmsg\u001b[0m\u001b[0;34m.\u001b[0m\u001b[0mmessage_id\u001b[0m\u001b[0;34m(\u001b[0m\u001b[0;34m)\u001b[0m\u001b[0;34m)\u001b[0m\u001b[0;34m)\u001b[0m\u001b[0;34m\u001b[0m\u001b[0;34m\u001b[0m\u001b[0m\n",
      "\u001b[0;32m/Volumes/external_drive/Code/MV2/env/lib/python3.8/site-packages/pulsar/__init__.py\u001b[0m in \u001b[0;36mread_next\u001b[0;34m(self, timeout_millis)\u001b[0m\n\u001b[1;32m   1209\u001b[0m         \"\"\"\n\u001b[1;32m   1210\u001b[0m         \u001b[0;32mif\u001b[0m \u001b[0mtimeout_millis\u001b[0m \u001b[0;32mis\u001b[0m \u001b[0;32mNone\u001b[0m\u001b[0;34m:\u001b[0m\u001b[0;34m\u001b[0m\u001b[0;34m\u001b[0m\u001b[0m\n\u001b[0;32m-> 1211\u001b[0;31m             \u001b[0mmsg\u001b[0m \u001b[0;34m=\u001b[0m \u001b[0mself\u001b[0m\u001b[0;34m.\u001b[0m\u001b[0m_reader\u001b[0m\u001b[0;34m.\u001b[0m\u001b[0mread_next\u001b[0m\u001b[0;34m(\u001b[0m\u001b[0;34m)\u001b[0m\u001b[0;34m\u001b[0m\u001b[0;34m\u001b[0m\u001b[0m\n\u001b[0m\u001b[1;32m   1212\u001b[0m         \u001b[0;32melse\u001b[0m\u001b[0;34m:\u001b[0m\u001b[0;34m\u001b[0m\u001b[0;34m\u001b[0m\u001b[0m\n\u001b[1;32m   1213\u001b[0m             \u001b[0m_check_type\u001b[0m\u001b[0;34m(\u001b[0m\u001b[0mint\u001b[0m\u001b[0;34m,\u001b[0m \u001b[0mtimeout_millis\u001b[0m\u001b[0;34m,\u001b[0m \u001b[0;34m'timeout_millis'\u001b[0m\u001b[0;34m)\u001b[0m\u001b[0;34m\u001b[0m\u001b[0;34m\u001b[0m\u001b[0m\n",
      "\u001b[0;31mSystemError\u001b[0m: "
     ]
    }
   ],
   "source": [
    "results = []\n",
    "while True:\n",
    "    msg = reader.read_next()\n",
    "    results.append(msg.data())\n",
    "    print(\"Received message '{}' id='{}'\".format(msg.data(), msg.message_id()))"
   ]
  },
  {
   "cell_type": "code",
   "execution_count": 14,
   "id": "f67ad9c5",
   "metadata": {},
   "outputs": [
    {
     "ename": "ConnectTimeout",
     "evalue": "HTTPConnectionPool(host='34.139.254.218', port=8081): Max retries exceeded with url: /v1/statement (Caused by ConnectTimeoutError(<urllib3.connection.HTTPConnection object at 0x115daf6d0>, 'Connection to 34.139.254.218 timed out. (connect timeout=30.0)'))",
     "output_type": "error",
     "traceback": [
      "\u001b[0;31m---------------------------------------------------------------------------\u001b[0m",
      "\u001b[0;31mtimeout\u001b[0m                                   Traceback (most recent call last)",
      "\u001b[0;32m/Volumes/external_drive/Code/MV2/env/lib/python3.8/site-packages/urllib3/connection.py\u001b[0m in \u001b[0;36m_new_conn\u001b[0;34m(self)\u001b[0m\n\u001b[1;32m    173\u001b[0m         \u001b[0;32mtry\u001b[0m\u001b[0;34m:\u001b[0m\u001b[0;34m\u001b[0m\u001b[0;34m\u001b[0m\u001b[0m\n\u001b[0;32m--> 174\u001b[0;31m             conn = connection.create_connection(\n\u001b[0m\u001b[1;32m    175\u001b[0m                 \u001b[0;34m(\u001b[0m\u001b[0mself\u001b[0m\u001b[0;34m.\u001b[0m\u001b[0m_dns_host\u001b[0m\u001b[0;34m,\u001b[0m \u001b[0mself\u001b[0m\u001b[0;34m.\u001b[0m\u001b[0mport\u001b[0m\u001b[0;34m)\u001b[0m\u001b[0;34m,\u001b[0m \u001b[0mself\u001b[0m\u001b[0;34m.\u001b[0m\u001b[0mtimeout\u001b[0m\u001b[0;34m,\u001b[0m \u001b[0;34m**\u001b[0m\u001b[0mextra_kw\u001b[0m\u001b[0;34m\u001b[0m\u001b[0;34m\u001b[0m\u001b[0m\n",
      "\u001b[0;32m/Volumes/external_drive/Code/MV2/env/lib/python3.8/site-packages/urllib3/util/connection.py\u001b[0m in \u001b[0;36mcreate_connection\u001b[0;34m(address, timeout, source_address, socket_options)\u001b[0m\n\u001b[1;32m     95\u001b[0m     \u001b[0;32mif\u001b[0m \u001b[0merr\u001b[0m \u001b[0;32mis\u001b[0m \u001b[0;32mnot\u001b[0m \u001b[0;32mNone\u001b[0m\u001b[0;34m:\u001b[0m\u001b[0;34m\u001b[0m\u001b[0;34m\u001b[0m\u001b[0m\n\u001b[0;32m---> 96\u001b[0;31m         \u001b[0;32mraise\u001b[0m \u001b[0merr\u001b[0m\u001b[0;34m\u001b[0m\u001b[0;34m\u001b[0m\u001b[0m\n\u001b[0m\u001b[1;32m     97\u001b[0m \u001b[0;34m\u001b[0m\u001b[0m\n",
      "\u001b[0;32m/Volumes/external_drive/Code/MV2/env/lib/python3.8/site-packages/urllib3/util/connection.py\u001b[0m in \u001b[0;36mcreate_connection\u001b[0;34m(address, timeout, source_address, socket_options)\u001b[0m\n\u001b[1;32m     85\u001b[0m                 \u001b[0msock\u001b[0m\u001b[0;34m.\u001b[0m\u001b[0mbind\u001b[0m\u001b[0;34m(\u001b[0m\u001b[0msource_address\u001b[0m\u001b[0;34m)\u001b[0m\u001b[0;34m\u001b[0m\u001b[0;34m\u001b[0m\u001b[0m\n\u001b[0;32m---> 86\u001b[0;31m             \u001b[0msock\u001b[0m\u001b[0;34m.\u001b[0m\u001b[0mconnect\u001b[0m\u001b[0;34m(\u001b[0m\u001b[0msa\u001b[0m\u001b[0;34m)\u001b[0m\u001b[0;34m\u001b[0m\u001b[0;34m\u001b[0m\u001b[0m\n\u001b[0m\u001b[1;32m     87\u001b[0m             \u001b[0;32mreturn\u001b[0m \u001b[0msock\u001b[0m\u001b[0;34m\u001b[0m\u001b[0;34m\u001b[0m\u001b[0m\n",
      "\u001b[0;31mtimeout\u001b[0m: timed out",
      "\nDuring handling of the above exception, another exception occurred:\n",
      "\u001b[0;31mConnectTimeoutError\u001b[0m                       Traceback (most recent call last)",
      "\u001b[0;32m/Volumes/external_drive/Code/MV2/env/lib/python3.8/site-packages/urllib3/connectionpool.py\u001b[0m in \u001b[0;36murlopen\u001b[0;34m(self, method, url, body, headers, retries, redirect, assert_same_host, timeout, pool_timeout, release_conn, chunked, body_pos, **response_kw)\u001b[0m\n\u001b[1;32m    698\u001b[0m             \u001b[0;31m# Make the request on the httplib connection object.\u001b[0m\u001b[0;34m\u001b[0m\u001b[0;34m\u001b[0m\u001b[0;34m\u001b[0m\u001b[0m\n\u001b[0;32m--> 699\u001b[0;31m             httplib_response = self._make_request(\n\u001b[0m\u001b[1;32m    700\u001b[0m                 \u001b[0mconn\u001b[0m\u001b[0;34m,\u001b[0m\u001b[0;34m\u001b[0m\u001b[0;34m\u001b[0m\u001b[0m\n",
      "\u001b[0;32m/Volumes/external_drive/Code/MV2/env/lib/python3.8/site-packages/urllib3/connectionpool.py\u001b[0m in \u001b[0;36m_make_request\u001b[0;34m(self, conn, method, url, timeout, chunked, **httplib_request_kw)\u001b[0m\n\u001b[1;32m    393\u001b[0m             \u001b[0;32melse\u001b[0m\u001b[0;34m:\u001b[0m\u001b[0;34m\u001b[0m\u001b[0;34m\u001b[0m\u001b[0m\n\u001b[0;32m--> 394\u001b[0;31m                 \u001b[0mconn\u001b[0m\u001b[0;34m.\u001b[0m\u001b[0mrequest\u001b[0m\u001b[0;34m(\u001b[0m\u001b[0mmethod\u001b[0m\u001b[0;34m,\u001b[0m \u001b[0murl\u001b[0m\u001b[0;34m,\u001b[0m \u001b[0;34m**\u001b[0m\u001b[0mhttplib_request_kw\u001b[0m\u001b[0;34m)\u001b[0m\u001b[0;34m\u001b[0m\u001b[0;34m\u001b[0m\u001b[0m\n\u001b[0m\u001b[1;32m    395\u001b[0m \u001b[0;34m\u001b[0m\u001b[0m\n",
      "\u001b[0;32m/Volumes/external_drive/Code/MV2/env/lib/python3.8/site-packages/urllib3/connection.py\u001b[0m in \u001b[0;36mrequest\u001b[0;34m(self, method, url, body, headers)\u001b[0m\n\u001b[1;32m    238\u001b[0m             \u001b[0mheaders\u001b[0m\u001b[0;34m[\u001b[0m\u001b[0;34m\"User-Agent\"\u001b[0m\u001b[0;34m]\u001b[0m \u001b[0;34m=\u001b[0m \u001b[0m_get_default_user_agent\u001b[0m\u001b[0;34m(\u001b[0m\u001b[0;34m)\u001b[0m\u001b[0;34m\u001b[0m\u001b[0;34m\u001b[0m\u001b[0m\n\u001b[0;32m--> 239\u001b[0;31m         \u001b[0msuper\u001b[0m\u001b[0;34m(\u001b[0m\u001b[0mHTTPConnection\u001b[0m\u001b[0;34m,\u001b[0m \u001b[0mself\u001b[0m\u001b[0;34m)\u001b[0m\u001b[0;34m.\u001b[0m\u001b[0mrequest\u001b[0m\u001b[0;34m(\u001b[0m\u001b[0mmethod\u001b[0m\u001b[0;34m,\u001b[0m \u001b[0murl\u001b[0m\u001b[0;34m,\u001b[0m \u001b[0mbody\u001b[0m\u001b[0;34m=\u001b[0m\u001b[0mbody\u001b[0m\u001b[0;34m,\u001b[0m \u001b[0mheaders\u001b[0m\u001b[0;34m=\u001b[0m\u001b[0mheaders\u001b[0m\u001b[0;34m)\u001b[0m\u001b[0;34m\u001b[0m\u001b[0;34m\u001b[0m\u001b[0m\n\u001b[0m\u001b[1;32m    240\u001b[0m \u001b[0;34m\u001b[0m\u001b[0m\n",
      "\u001b[0;32m/usr/local/Cellar/python@3.8/3.8.5/Frameworks/Python.framework/Versions/3.8/lib/python3.8/http/client.py\u001b[0m in \u001b[0;36mrequest\u001b[0;34m(self, method, url, body, headers, encode_chunked)\u001b[0m\n\u001b[1;32m   1254\u001b[0m         \u001b[0;34m\"\"\"Send a complete request to the server.\"\"\"\u001b[0m\u001b[0;34m\u001b[0m\u001b[0;34m\u001b[0m\u001b[0m\n\u001b[0;32m-> 1255\u001b[0;31m         \u001b[0mself\u001b[0m\u001b[0;34m.\u001b[0m\u001b[0m_send_request\u001b[0m\u001b[0;34m(\u001b[0m\u001b[0mmethod\u001b[0m\u001b[0;34m,\u001b[0m \u001b[0murl\u001b[0m\u001b[0;34m,\u001b[0m \u001b[0mbody\u001b[0m\u001b[0;34m,\u001b[0m \u001b[0mheaders\u001b[0m\u001b[0;34m,\u001b[0m \u001b[0mencode_chunked\u001b[0m\u001b[0;34m)\u001b[0m\u001b[0;34m\u001b[0m\u001b[0;34m\u001b[0m\u001b[0m\n\u001b[0m\u001b[1;32m   1256\u001b[0m \u001b[0;34m\u001b[0m\u001b[0m\n",
      "\u001b[0;32m/usr/local/Cellar/python@3.8/3.8.5/Frameworks/Python.framework/Versions/3.8/lib/python3.8/http/client.py\u001b[0m in \u001b[0;36m_send_request\u001b[0;34m(self, method, url, body, headers, encode_chunked)\u001b[0m\n\u001b[1;32m   1300\u001b[0m             \u001b[0mbody\u001b[0m \u001b[0;34m=\u001b[0m \u001b[0m_encode\u001b[0m\u001b[0;34m(\u001b[0m\u001b[0mbody\u001b[0m\u001b[0;34m,\u001b[0m \u001b[0;34m'body'\u001b[0m\u001b[0;34m)\u001b[0m\u001b[0;34m\u001b[0m\u001b[0;34m\u001b[0m\u001b[0m\n\u001b[0;32m-> 1301\u001b[0;31m         \u001b[0mself\u001b[0m\u001b[0;34m.\u001b[0m\u001b[0mendheaders\u001b[0m\u001b[0;34m(\u001b[0m\u001b[0mbody\u001b[0m\u001b[0;34m,\u001b[0m \u001b[0mencode_chunked\u001b[0m\u001b[0;34m=\u001b[0m\u001b[0mencode_chunked\u001b[0m\u001b[0;34m)\u001b[0m\u001b[0;34m\u001b[0m\u001b[0;34m\u001b[0m\u001b[0m\n\u001b[0m\u001b[1;32m   1302\u001b[0m \u001b[0;34m\u001b[0m\u001b[0m\n",
      "\u001b[0;32m/usr/local/Cellar/python@3.8/3.8.5/Frameworks/Python.framework/Versions/3.8/lib/python3.8/http/client.py\u001b[0m in \u001b[0;36mendheaders\u001b[0;34m(self, message_body, encode_chunked)\u001b[0m\n\u001b[1;32m   1249\u001b[0m             \u001b[0;32mraise\u001b[0m \u001b[0mCannotSendHeader\u001b[0m\u001b[0;34m(\u001b[0m\u001b[0;34m)\u001b[0m\u001b[0;34m\u001b[0m\u001b[0;34m\u001b[0m\u001b[0m\n\u001b[0;32m-> 1250\u001b[0;31m         \u001b[0mself\u001b[0m\u001b[0;34m.\u001b[0m\u001b[0m_send_output\u001b[0m\u001b[0;34m(\u001b[0m\u001b[0mmessage_body\u001b[0m\u001b[0;34m,\u001b[0m \u001b[0mencode_chunked\u001b[0m\u001b[0;34m=\u001b[0m\u001b[0mencode_chunked\u001b[0m\u001b[0;34m)\u001b[0m\u001b[0;34m\u001b[0m\u001b[0;34m\u001b[0m\u001b[0m\n\u001b[0m\u001b[1;32m   1251\u001b[0m \u001b[0;34m\u001b[0m\u001b[0m\n",
      "\u001b[0;32m/usr/local/Cellar/python@3.8/3.8.5/Frameworks/Python.framework/Versions/3.8/lib/python3.8/http/client.py\u001b[0m in \u001b[0;36m_send_output\u001b[0;34m(self, message_body, encode_chunked)\u001b[0m\n\u001b[1;32m   1009\u001b[0m         \u001b[0;32mdel\u001b[0m \u001b[0mself\u001b[0m\u001b[0;34m.\u001b[0m\u001b[0m_buffer\u001b[0m\u001b[0;34m[\u001b[0m\u001b[0;34m:\u001b[0m\u001b[0;34m]\u001b[0m\u001b[0;34m\u001b[0m\u001b[0;34m\u001b[0m\u001b[0m\n\u001b[0;32m-> 1010\u001b[0;31m         \u001b[0mself\u001b[0m\u001b[0;34m.\u001b[0m\u001b[0msend\u001b[0m\u001b[0;34m(\u001b[0m\u001b[0mmsg\u001b[0m\u001b[0;34m)\u001b[0m\u001b[0;34m\u001b[0m\u001b[0;34m\u001b[0m\u001b[0m\n\u001b[0m\u001b[1;32m   1011\u001b[0m \u001b[0;34m\u001b[0m\u001b[0m\n",
      "\u001b[0;32m/usr/local/Cellar/python@3.8/3.8.5/Frameworks/Python.framework/Versions/3.8/lib/python3.8/http/client.py\u001b[0m in \u001b[0;36msend\u001b[0;34m(self, data)\u001b[0m\n\u001b[1;32m    949\u001b[0m             \u001b[0;32mif\u001b[0m \u001b[0mself\u001b[0m\u001b[0;34m.\u001b[0m\u001b[0mauto_open\u001b[0m\u001b[0;34m:\u001b[0m\u001b[0;34m\u001b[0m\u001b[0;34m\u001b[0m\u001b[0m\n\u001b[0;32m--> 950\u001b[0;31m                 \u001b[0mself\u001b[0m\u001b[0;34m.\u001b[0m\u001b[0mconnect\u001b[0m\u001b[0;34m(\u001b[0m\u001b[0;34m)\u001b[0m\u001b[0;34m\u001b[0m\u001b[0;34m\u001b[0m\u001b[0m\n\u001b[0m\u001b[1;32m    951\u001b[0m             \u001b[0;32melse\u001b[0m\u001b[0;34m:\u001b[0m\u001b[0;34m\u001b[0m\u001b[0;34m\u001b[0m\u001b[0m\n",
      "\u001b[0;32m/Volumes/external_drive/Code/MV2/env/lib/python3.8/site-packages/urllib3/connection.py\u001b[0m in \u001b[0;36mconnect\u001b[0;34m(self)\u001b[0m\n\u001b[1;32m    204\u001b[0m     \u001b[0;32mdef\u001b[0m \u001b[0mconnect\u001b[0m\u001b[0;34m(\u001b[0m\u001b[0mself\u001b[0m\u001b[0;34m)\u001b[0m\u001b[0;34m:\u001b[0m\u001b[0;34m\u001b[0m\u001b[0;34m\u001b[0m\u001b[0m\n\u001b[0;32m--> 205\u001b[0;31m         \u001b[0mconn\u001b[0m \u001b[0;34m=\u001b[0m \u001b[0mself\u001b[0m\u001b[0;34m.\u001b[0m\u001b[0m_new_conn\u001b[0m\u001b[0;34m(\u001b[0m\u001b[0;34m)\u001b[0m\u001b[0;34m\u001b[0m\u001b[0;34m\u001b[0m\u001b[0m\n\u001b[0m\u001b[1;32m    206\u001b[0m         \u001b[0mself\u001b[0m\u001b[0;34m.\u001b[0m\u001b[0m_prepare_conn\u001b[0m\u001b[0;34m(\u001b[0m\u001b[0mconn\u001b[0m\u001b[0;34m)\u001b[0m\u001b[0;34m\u001b[0m\u001b[0;34m\u001b[0m\u001b[0m\n",
      "\u001b[0;32m/Volumes/external_drive/Code/MV2/env/lib/python3.8/site-packages/urllib3/connection.py\u001b[0m in \u001b[0;36m_new_conn\u001b[0;34m(self)\u001b[0m\n\u001b[1;32m    178\u001b[0m         \u001b[0;32mexcept\u001b[0m \u001b[0mSocketTimeout\u001b[0m\u001b[0;34m:\u001b[0m\u001b[0;34m\u001b[0m\u001b[0;34m\u001b[0m\u001b[0m\n\u001b[0;32m--> 179\u001b[0;31m             raise ConnectTimeoutError(\n\u001b[0m\u001b[1;32m    180\u001b[0m                 \u001b[0mself\u001b[0m\u001b[0;34m,\u001b[0m\u001b[0;34m\u001b[0m\u001b[0;34m\u001b[0m\u001b[0m\n",
      "\u001b[0;31mConnectTimeoutError\u001b[0m: (<urllib3.connection.HTTPConnection object at 0x115daf6d0>, 'Connection to 34.139.254.218 timed out. (connect timeout=30.0)')",
      "\nDuring handling of the above exception, another exception occurred:\n",
      "\u001b[0;31mMaxRetryError\u001b[0m                             Traceback (most recent call last)",
      "\u001b[0;32m/Volumes/external_drive/Code/MV2/env/lib/python3.8/site-packages/requests/adapters.py\u001b[0m in \u001b[0;36msend\u001b[0;34m(self, request, stream, timeout, verify, cert, proxies)\u001b[0m\n\u001b[1;32m    438\u001b[0m             \u001b[0;32mif\u001b[0m \u001b[0;32mnot\u001b[0m \u001b[0mchunked\u001b[0m\u001b[0;34m:\u001b[0m\u001b[0;34m\u001b[0m\u001b[0;34m\u001b[0m\u001b[0m\n\u001b[0;32m--> 439\u001b[0;31m                 resp = conn.urlopen(\n\u001b[0m\u001b[1;32m    440\u001b[0m                     \u001b[0mmethod\u001b[0m\u001b[0;34m=\u001b[0m\u001b[0mrequest\u001b[0m\u001b[0;34m.\u001b[0m\u001b[0mmethod\u001b[0m\u001b[0;34m,\u001b[0m\u001b[0;34m\u001b[0m\u001b[0;34m\u001b[0m\u001b[0m\n",
      "\u001b[0;32m/Volumes/external_drive/Code/MV2/env/lib/python3.8/site-packages/urllib3/connectionpool.py\u001b[0m in \u001b[0;36murlopen\u001b[0;34m(self, method, url, body, headers, retries, redirect, assert_same_host, timeout, pool_timeout, release_conn, chunked, body_pos, **response_kw)\u001b[0m\n\u001b[1;32m    754\u001b[0m \u001b[0;34m\u001b[0m\u001b[0m\n\u001b[0;32m--> 755\u001b[0;31m             retries = retries.increment(\n\u001b[0m\u001b[1;32m    756\u001b[0m                 \u001b[0mmethod\u001b[0m\u001b[0;34m,\u001b[0m \u001b[0murl\u001b[0m\u001b[0;34m,\u001b[0m \u001b[0merror\u001b[0m\u001b[0;34m=\u001b[0m\u001b[0me\u001b[0m\u001b[0;34m,\u001b[0m \u001b[0m_pool\u001b[0m\u001b[0;34m=\u001b[0m\u001b[0mself\u001b[0m\u001b[0;34m,\u001b[0m \u001b[0m_stacktrace\u001b[0m\u001b[0;34m=\u001b[0m\u001b[0msys\u001b[0m\u001b[0;34m.\u001b[0m\u001b[0mexc_info\u001b[0m\u001b[0;34m(\u001b[0m\u001b[0;34m)\u001b[0m\u001b[0;34m[\u001b[0m\u001b[0;36m2\u001b[0m\u001b[0;34m]\u001b[0m\u001b[0;34m\u001b[0m\u001b[0;34m\u001b[0m\u001b[0m\n",
      "\u001b[0;32m/Volumes/external_drive/Code/MV2/env/lib/python3.8/site-packages/urllib3/util/retry.py\u001b[0m in \u001b[0;36mincrement\u001b[0;34m(self, method, url, response, error, _pool, _stacktrace)\u001b[0m\n\u001b[1;32m    573\u001b[0m         \u001b[0;32mif\u001b[0m \u001b[0mnew_retry\u001b[0m\u001b[0;34m.\u001b[0m\u001b[0mis_exhausted\u001b[0m\u001b[0;34m(\u001b[0m\u001b[0;34m)\u001b[0m\u001b[0;34m:\u001b[0m\u001b[0;34m\u001b[0m\u001b[0;34m\u001b[0m\u001b[0m\n\u001b[0;32m--> 574\u001b[0;31m             \u001b[0;32mraise\u001b[0m \u001b[0mMaxRetryError\u001b[0m\u001b[0;34m(\u001b[0m\u001b[0m_pool\u001b[0m\u001b[0;34m,\u001b[0m \u001b[0murl\u001b[0m\u001b[0;34m,\u001b[0m \u001b[0merror\u001b[0m \u001b[0;32mor\u001b[0m \u001b[0mResponseError\u001b[0m\u001b[0;34m(\u001b[0m\u001b[0mcause\u001b[0m\u001b[0;34m)\u001b[0m\u001b[0;34m)\u001b[0m\u001b[0;34m\u001b[0m\u001b[0;34m\u001b[0m\u001b[0m\n\u001b[0m\u001b[1;32m    575\u001b[0m \u001b[0;34m\u001b[0m\u001b[0m\n",
      "\u001b[0;31mMaxRetryError\u001b[0m: HTTPConnectionPool(host='34.139.254.218', port=8081): Max retries exceeded with url: /v1/statement (Caused by ConnectTimeoutError(<urllib3.connection.HTTPConnection object at 0x115daf6d0>, 'Connection to 34.139.254.218 timed out. (connect timeout=30.0)'))",
      "\nDuring handling of the above exception, another exception occurred:\n",
      "\u001b[0;31mConnectTimeout\u001b[0m                            Traceback (most recent call last)",
      "\u001b[0;32m/var/folders/hv/kdmqg5vj5md4yrk4p96h43tm0000gn/T/ipykernel_2329/2653940797.py\u001b[0m in \u001b[0;36m<module>\u001b[0;34m\u001b[0m\n\u001b[1;32m     16\u001b[0m \u001b[0mquery\u001b[0m \u001b[0;34m=\u001b[0m \u001b[0;34m\"SELECT * FROM input_allocation_10\"\u001b[0m\u001b[0;34m\u001b[0m\u001b[0;34m\u001b[0m\u001b[0m\n\u001b[1;32m     17\u001b[0m \u001b[0mschema\u001b[0m \u001b[0;34m=\u001b[0m \u001b[0;34m\"customer_019d86c542dd49c5a8701facebfdeeec_offer_0/market_6\"\u001b[0m\u001b[0;34m\u001b[0m\u001b[0;34m\u001b[0m\u001b[0m\n\u001b[0;32m---> 18\u001b[0;31m \u001b[0mdf\u001b[0m \u001b[0;34m=\u001b[0m \u001b[0mpresto_query\u001b[0m\u001b[0;34m(\u001b[0m\u001b[0mquery\u001b[0m\u001b[0;34m,\u001b[0m \u001b[0mschema\u001b[0m\u001b[0;34m)\u001b[0m\u001b[0;34m\u001b[0m\u001b[0;34m\u001b[0m\u001b[0m\n\u001b[0m",
      "\u001b[0;32m/var/folders/hv/kdmqg5vj5md4yrk4p96h43tm0000gn/T/ipykernel_2329/2653940797.py\u001b[0m in \u001b[0;36mpresto_query\u001b[0;34m(query, user, catalog, schema, host, port)\u001b[0m\n\u001b[1;32m      7\u001b[0m         schema=schema)\n\u001b[1;32m      8\u001b[0m     \u001b[0mcur\u001b[0m \u001b[0;34m=\u001b[0m \u001b[0mconn\u001b[0m\u001b[0;34m.\u001b[0m\u001b[0mcursor\u001b[0m\u001b[0;34m(\u001b[0m\u001b[0;34m)\u001b[0m\u001b[0;34m\u001b[0m\u001b[0;34m\u001b[0m\u001b[0m\n\u001b[0;32m----> 9\u001b[0;31m     \u001b[0mcur\u001b[0m\u001b[0;34m.\u001b[0m\u001b[0mexecute\u001b[0m\u001b[0;34m(\u001b[0m\u001b[0mquery\u001b[0m\u001b[0;34m)\u001b[0m\u001b[0;34m\u001b[0m\u001b[0;34m\u001b[0m\u001b[0m\n\u001b[0m\u001b[1;32m     10\u001b[0m     \u001b[0mdata\u001b[0m \u001b[0;34m=\u001b[0m \u001b[0mcur\u001b[0m\u001b[0;34m.\u001b[0m\u001b[0mfetchall\u001b[0m\u001b[0;34m(\u001b[0m\u001b[0;34m)\u001b[0m\u001b[0;34m\u001b[0m\u001b[0;34m\u001b[0m\u001b[0m\n\u001b[1;32m     11\u001b[0m     \u001b[0mcolumns\u001b[0m \u001b[0;34m=\u001b[0m \u001b[0mcur\u001b[0m\u001b[0;34m.\u001b[0m\u001b[0mdescription\u001b[0m\u001b[0;34m\u001b[0m\u001b[0;34m\u001b[0m\u001b[0m\n",
      "\u001b[0;32m/Volumes/external_drive/Code/MV2/env/lib/python3.8/site-packages/prestodb/dbapi.py\u001b[0m in \u001b[0;36mexecute\u001b[0;34m(self, operation, params)\u001b[0m\n\u001b[1;32m    234\u001b[0m     \u001b[0;32mdef\u001b[0m \u001b[0mexecute\u001b[0m\u001b[0;34m(\u001b[0m\u001b[0mself\u001b[0m\u001b[0;34m,\u001b[0m \u001b[0moperation\u001b[0m\u001b[0;34m,\u001b[0m \u001b[0mparams\u001b[0m\u001b[0;34m=\u001b[0m\u001b[0;32mNone\u001b[0m\u001b[0;34m)\u001b[0m\u001b[0;34m:\u001b[0m\u001b[0;34m\u001b[0m\u001b[0;34m\u001b[0m\u001b[0m\n\u001b[1;32m    235\u001b[0m         \u001b[0mself\u001b[0m\u001b[0;34m.\u001b[0m\u001b[0m_query\u001b[0m \u001b[0;34m=\u001b[0m \u001b[0mprestodb\u001b[0m\u001b[0;34m.\u001b[0m\u001b[0mclient\u001b[0m\u001b[0;34m.\u001b[0m\u001b[0mPrestoQuery\u001b[0m\u001b[0;34m(\u001b[0m\u001b[0mself\u001b[0m\u001b[0;34m.\u001b[0m\u001b[0m_request\u001b[0m\u001b[0;34m,\u001b[0m \u001b[0msql\u001b[0m\u001b[0;34m=\u001b[0m\u001b[0moperation\u001b[0m\u001b[0;34m)\u001b[0m\u001b[0;34m\u001b[0m\u001b[0;34m\u001b[0m\u001b[0m\n\u001b[0;32m--> 236\u001b[0;31m         \u001b[0mresult\u001b[0m \u001b[0;34m=\u001b[0m \u001b[0mself\u001b[0m\u001b[0;34m.\u001b[0m\u001b[0m_query\u001b[0m\u001b[0;34m.\u001b[0m\u001b[0mexecute\u001b[0m\u001b[0;34m(\u001b[0m\u001b[0;34m)\u001b[0m\u001b[0;34m\u001b[0m\u001b[0;34m\u001b[0m\u001b[0m\n\u001b[0m\u001b[1;32m    237\u001b[0m         \u001b[0mself\u001b[0m\u001b[0;34m.\u001b[0m\u001b[0m_iterator\u001b[0m \u001b[0;34m=\u001b[0m \u001b[0miter\u001b[0m\u001b[0;34m(\u001b[0m\u001b[0mresult\u001b[0m\u001b[0;34m)\u001b[0m\u001b[0;34m\u001b[0m\u001b[0;34m\u001b[0m\u001b[0m\n\u001b[1;32m    238\u001b[0m         \u001b[0;32mreturn\u001b[0m \u001b[0mresult\u001b[0m\u001b[0;34m\u001b[0m\u001b[0;34m\u001b[0m\u001b[0m\n",
      "\u001b[0;32m/Volumes/external_drive/Code/MV2/env/lib/python3.8/site-packages/prestodb/client.py\u001b[0m in \u001b[0;36mexecute\u001b[0;34m(self)\u001b[0m\n\u001b[1;32m    540\u001b[0m             \u001b[0mself\u001b[0m\u001b[0;34m.\u001b[0m\u001b[0m_request\u001b[0m\u001b[0;34m.\u001b[0m\u001b[0mhttp_session\u001b[0m\u001b[0;34m.\u001b[0m\u001b[0mheaders\u001b[0m\u001b[0;34m.\u001b[0m\u001b[0mupdate\u001b[0m\u001b[0;34m(\u001b[0m\u001b[0mself\u001b[0m\u001b[0;34m.\u001b[0m\u001b[0m_request\u001b[0m\u001b[0;34m.\u001b[0m\u001b[0mget_oauth_token\u001b[0m\u001b[0;34m(\u001b[0m\u001b[0;34m)\u001b[0m\u001b[0;34m)\u001b[0m\u001b[0;34m\u001b[0m\u001b[0;34m\u001b[0m\u001b[0m\n\u001b[1;32m    541\u001b[0m \u001b[0;34m\u001b[0m\u001b[0m\n\u001b[0;32m--> 542\u001b[0;31m         \u001b[0mresponse\u001b[0m \u001b[0;34m=\u001b[0m \u001b[0mself\u001b[0m\u001b[0;34m.\u001b[0m\u001b[0m_request\u001b[0m\u001b[0;34m.\u001b[0m\u001b[0mpost\u001b[0m\u001b[0;34m(\u001b[0m\u001b[0mself\u001b[0m\u001b[0;34m.\u001b[0m\u001b[0m_sql\u001b[0m\u001b[0;34m)\u001b[0m\u001b[0;34m\u001b[0m\u001b[0;34m\u001b[0m\u001b[0m\n\u001b[0m\u001b[1;32m    543\u001b[0m         \u001b[0mstatus\u001b[0m \u001b[0;34m=\u001b[0m \u001b[0mself\u001b[0m\u001b[0;34m.\u001b[0m\u001b[0m_request\u001b[0m\u001b[0;34m.\u001b[0m\u001b[0mprocess\u001b[0m\u001b[0;34m(\u001b[0m\u001b[0mresponse\u001b[0m\u001b[0;34m)\u001b[0m\u001b[0;34m\u001b[0m\u001b[0;34m\u001b[0m\u001b[0m\n\u001b[1;32m    544\u001b[0m         \u001b[0mself\u001b[0m\u001b[0;34m.\u001b[0m\u001b[0mquery_id\u001b[0m \u001b[0;34m=\u001b[0m \u001b[0mstatus\u001b[0m\u001b[0;34m.\u001b[0m\u001b[0mid\u001b[0m\u001b[0;34m\u001b[0m\u001b[0;34m\u001b[0m\u001b[0m\n",
      "\u001b[0;32m/Volumes/external_drive/Code/MV2/env/lib/python3.8/site-packages/prestodb/client.py\u001b[0m in \u001b[0;36mpost\u001b[0;34m(self, sql)\u001b[0m\n\u001b[1;32m    348\u001b[0m         \u001b[0mhttp_headers\u001b[0m \u001b[0;34m=\u001b[0m \u001b[0mself\u001b[0m\u001b[0;34m.\u001b[0m\u001b[0mhttp_headers\u001b[0m\u001b[0;34m\u001b[0m\u001b[0;34m\u001b[0m\u001b[0m\n\u001b[1;32m    349\u001b[0m \u001b[0;34m\u001b[0m\u001b[0m\n\u001b[0;32m--> 350\u001b[0;31m         http_response = self._post(\n\u001b[0m\u001b[1;32m    351\u001b[0m             \u001b[0mself\u001b[0m\u001b[0;34m.\u001b[0m\u001b[0mstatement_url\u001b[0m\u001b[0;34m,\u001b[0m\u001b[0;34m\u001b[0m\u001b[0;34m\u001b[0m\u001b[0m\n\u001b[1;32m    352\u001b[0m             \u001b[0mdata\u001b[0m\u001b[0;34m=\u001b[0m\u001b[0mdata\u001b[0m\u001b[0;34m,\u001b[0m\u001b[0;34m\u001b[0m\u001b[0;34m\u001b[0m\u001b[0m\n",
      "\u001b[0;32m/Volumes/external_drive/Code/MV2/env/lib/python3.8/site-packages/prestodb/exceptions.py\u001b[0m in \u001b[0;36mdecorated\u001b[0;34m(*args, **kwargs)\u001b[0m\n\u001b[1;32m    129\u001b[0m             \u001b[0mlogger\u001b[0m\u001b[0;34m.\u001b[0m\u001b[0minfo\u001b[0m\u001b[0;34m(\u001b[0m\u001b[0;34m\"failed after {} attempts\"\u001b[0m\u001b[0;34m.\u001b[0m\u001b[0mformat\u001b[0m\u001b[0;34m(\u001b[0m\u001b[0mattempt\u001b[0m\u001b[0;34m)\u001b[0m\u001b[0;34m)\u001b[0m\u001b[0;34m\u001b[0m\u001b[0;34m\u001b[0m\u001b[0m\n\u001b[1;32m    130\u001b[0m             \u001b[0;32mif\u001b[0m \u001b[0merror\u001b[0m \u001b[0;32mis\u001b[0m \u001b[0;32mnot\u001b[0m \u001b[0;32mNone\u001b[0m\u001b[0;34m:\u001b[0m\u001b[0;34m\u001b[0m\u001b[0;34m\u001b[0m\u001b[0m\n\u001b[0;32m--> 131\u001b[0;31m                 \u001b[0;32mraise\u001b[0m \u001b[0merror\u001b[0m\u001b[0;34m\u001b[0m\u001b[0;34m\u001b[0m\u001b[0m\n\u001b[0m\u001b[1;32m    132\u001b[0m             \u001b[0;32mreturn\u001b[0m \u001b[0mresult\u001b[0m\u001b[0;34m\u001b[0m\u001b[0;34m\u001b[0m\u001b[0m\n\u001b[1;32m    133\u001b[0m \u001b[0;34m\u001b[0m\u001b[0m\n",
      "\u001b[0;32m/Volumes/external_drive/Code/MV2/env/lib/python3.8/site-packages/prestodb/exceptions.py\u001b[0m in \u001b[0;36mdecorated\u001b[0;34m(*args, **kwargs)\u001b[0m\n\u001b[1;32m    116\u001b[0m             \u001b[0;32mfor\u001b[0m \u001b[0mattempt\u001b[0m \u001b[0;32min\u001b[0m \u001b[0mrange\u001b[0m\u001b[0;34m(\u001b[0m\u001b[0;36m1\u001b[0m\u001b[0;34m,\u001b[0m \u001b[0mmax_attempts\u001b[0m \u001b[0;34m+\u001b[0m \u001b[0;36m1\u001b[0m\u001b[0;34m)\u001b[0m\u001b[0;34m:\u001b[0m\u001b[0;34m\u001b[0m\u001b[0;34m\u001b[0m\u001b[0m\n\u001b[1;32m    117\u001b[0m                 \u001b[0;32mtry\u001b[0m\u001b[0;34m:\u001b[0m\u001b[0;34m\u001b[0m\u001b[0;34m\u001b[0m\u001b[0m\n\u001b[0;32m--> 118\u001b[0;31m                     \u001b[0mresult\u001b[0m \u001b[0;34m=\u001b[0m \u001b[0mfunc\u001b[0m\u001b[0;34m(\u001b[0m\u001b[0;34m*\u001b[0m\u001b[0margs\u001b[0m\u001b[0;34m,\u001b[0m \u001b[0;34m**\u001b[0m\u001b[0mkwargs\u001b[0m\u001b[0;34m)\u001b[0m\u001b[0;34m\u001b[0m\u001b[0;34m\u001b[0m\u001b[0m\n\u001b[0m\u001b[1;32m    119\u001b[0m                     \u001b[0;32mif\u001b[0m \u001b[0many\u001b[0m\u001b[0;34m(\u001b[0m\u001b[0mguard\u001b[0m\u001b[0;34m(\u001b[0m\u001b[0mresult\u001b[0m\u001b[0;34m)\u001b[0m \u001b[0;32mfor\u001b[0m \u001b[0mguard\u001b[0m \u001b[0;32min\u001b[0m \u001b[0mconditions\u001b[0m\u001b[0;34m)\u001b[0m\u001b[0;34m:\u001b[0m\u001b[0;34m\u001b[0m\u001b[0;34m\u001b[0m\u001b[0m\n\u001b[1;32m    120\u001b[0m                         \u001b[0mhandle_retry\u001b[0m\u001b[0;34m.\u001b[0m\u001b[0mretry\u001b[0m\u001b[0;34m(\u001b[0m\u001b[0mfunc\u001b[0m\u001b[0;34m,\u001b[0m \u001b[0margs\u001b[0m\u001b[0;34m,\u001b[0m \u001b[0mkwargs\u001b[0m\u001b[0;34m,\u001b[0m \u001b[0;32mNone\u001b[0m\u001b[0;34m,\u001b[0m \u001b[0mattempt\u001b[0m\u001b[0;34m)\u001b[0m\u001b[0;34m\u001b[0m\u001b[0;34m\u001b[0m\u001b[0m\n",
      "\u001b[0;32m/Volumes/external_drive/Code/MV2/env/lib/python3.8/site-packages/requests/sessions.py\u001b[0m in \u001b[0;36mpost\u001b[0;34m(self, url, data, json, **kwargs)\u001b[0m\n\u001b[1;32m    588\u001b[0m         \"\"\"\n\u001b[1;32m    589\u001b[0m \u001b[0;34m\u001b[0m\u001b[0m\n\u001b[0;32m--> 590\u001b[0;31m         \u001b[0;32mreturn\u001b[0m \u001b[0mself\u001b[0m\u001b[0;34m.\u001b[0m\u001b[0mrequest\u001b[0m\u001b[0;34m(\u001b[0m\u001b[0;34m'POST'\u001b[0m\u001b[0;34m,\u001b[0m \u001b[0murl\u001b[0m\u001b[0;34m,\u001b[0m \u001b[0mdata\u001b[0m\u001b[0;34m=\u001b[0m\u001b[0mdata\u001b[0m\u001b[0;34m,\u001b[0m \u001b[0mjson\u001b[0m\u001b[0;34m=\u001b[0m\u001b[0mjson\u001b[0m\u001b[0;34m,\u001b[0m \u001b[0;34m**\u001b[0m\u001b[0mkwargs\u001b[0m\u001b[0;34m)\u001b[0m\u001b[0;34m\u001b[0m\u001b[0;34m\u001b[0m\u001b[0m\n\u001b[0m\u001b[1;32m    591\u001b[0m \u001b[0;34m\u001b[0m\u001b[0m\n\u001b[1;32m    592\u001b[0m     \u001b[0;32mdef\u001b[0m \u001b[0mput\u001b[0m\u001b[0;34m(\u001b[0m\u001b[0mself\u001b[0m\u001b[0;34m,\u001b[0m \u001b[0murl\u001b[0m\u001b[0;34m,\u001b[0m \u001b[0mdata\u001b[0m\u001b[0;34m=\u001b[0m\u001b[0;32mNone\u001b[0m\u001b[0;34m,\u001b[0m \u001b[0;34m**\u001b[0m\u001b[0mkwargs\u001b[0m\u001b[0;34m)\u001b[0m\u001b[0;34m:\u001b[0m\u001b[0;34m\u001b[0m\u001b[0;34m\u001b[0m\u001b[0m\n",
      "\u001b[0;32m/Volumes/external_drive/Code/MV2/env/lib/python3.8/site-packages/requests/sessions.py\u001b[0m in \u001b[0;36mrequest\u001b[0;34m(self, method, url, params, data, headers, cookies, files, auth, timeout, allow_redirects, proxies, hooks, stream, verify, cert, json)\u001b[0m\n\u001b[1;32m    540\u001b[0m         }\n\u001b[1;32m    541\u001b[0m         \u001b[0msend_kwargs\u001b[0m\u001b[0;34m.\u001b[0m\u001b[0mupdate\u001b[0m\u001b[0;34m(\u001b[0m\u001b[0msettings\u001b[0m\u001b[0;34m)\u001b[0m\u001b[0;34m\u001b[0m\u001b[0;34m\u001b[0m\u001b[0m\n\u001b[0;32m--> 542\u001b[0;31m         \u001b[0mresp\u001b[0m \u001b[0;34m=\u001b[0m \u001b[0mself\u001b[0m\u001b[0;34m.\u001b[0m\u001b[0msend\u001b[0m\u001b[0;34m(\u001b[0m\u001b[0mprep\u001b[0m\u001b[0;34m,\u001b[0m \u001b[0;34m**\u001b[0m\u001b[0msend_kwargs\u001b[0m\u001b[0;34m)\u001b[0m\u001b[0;34m\u001b[0m\u001b[0;34m\u001b[0m\u001b[0m\n\u001b[0m\u001b[1;32m    543\u001b[0m \u001b[0;34m\u001b[0m\u001b[0m\n\u001b[1;32m    544\u001b[0m         \u001b[0;32mreturn\u001b[0m \u001b[0mresp\u001b[0m\u001b[0;34m\u001b[0m\u001b[0;34m\u001b[0m\u001b[0m\n",
      "\u001b[0;32m/Volumes/external_drive/Code/MV2/env/lib/python3.8/site-packages/requests/sessions.py\u001b[0m in \u001b[0;36msend\u001b[0;34m(self, request, **kwargs)\u001b[0m\n\u001b[1;32m    653\u001b[0m \u001b[0;34m\u001b[0m\u001b[0m\n\u001b[1;32m    654\u001b[0m         \u001b[0;31m# Send the request\u001b[0m\u001b[0;34m\u001b[0m\u001b[0;34m\u001b[0m\u001b[0;34m\u001b[0m\u001b[0m\n\u001b[0;32m--> 655\u001b[0;31m         \u001b[0mr\u001b[0m \u001b[0;34m=\u001b[0m \u001b[0madapter\u001b[0m\u001b[0;34m.\u001b[0m\u001b[0msend\u001b[0m\u001b[0;34m(\u001b[0m\u001b[0mrequest\u001b[0m\u001b[0;34m,\u001b[0m \u001b[0;34m**\u001b[0m\u001b[0mkwargs\u001b[0m\u001b[0;34m)\u001b[0m\u001b[0;34m\u001b[0m\u001b[0;34m\u001b[0m\u001b[0m\n\u001b[0m\u001b[1;32m    656\u001b[0m \u001b[0;34m\u001b[0m\u001b[0m\n\u001b[1;32m    657\u001b[0m         \u001b[0;31m# Total elapsed time of the request (approximately)\u001b[0m\u001b[0;34m\u001b[0m\u001b[0;34m\u001b[0m\u001b[0;34m\u001b[0m\u001b[0m\n",
      "\u001b[0;32m/Volumes/external_drive/Code/MV2/env/lib/python3.8/site-packages/requests/adapters.py\u001b[0m in \u001b[0;36msend\u001b[0;34m(self, request, stream, timeout, verify, cert, proxies)\u001b[0m\n\u001b[1;32m    502\u001b[0m                 \u001b[0;31m# TODO: Remove this in 3.0.0: see #2811\u001b[0m\u001b[0;34m\u001b[0m\u001b[0;34m\u001b[0m\u001b[0;34m\u001b[0m\u001b[0m\n\u001b[1;32m    503\u001b[0m                 \u001b[0;32mif\u001b[0m \u001b[0;32mnot\u001b[0m \u001b[0misinstance\u001b[0m\u001b[0;34m(\u001b[0m\u001b[0me\u001b[0m\u001b[0;34m.\u001b[0m\u001b[0mreason\u001b[0m\u001b[0;34m,\u001b[0m \u001b[0mNewConnectionError\u001b[0m\u001b[0;34m)\u001b[0m\u001b[0;34m:\u001b[0m\u001b[0;34m\u001b[0m\u001b[0;34m\u001b[0m\u001b[0m\n\u001b[0;32m--> 504\u001b[0;31m                     \u001b[0;32mraise\u001b[0m \u001b[0mConnectTimeout\u001b[0m\u001b[0;34m(\u001b[0m\u001b[0me\u001b[0m\u001b[0;34m,\u001b[0m \u001b[0mrequest\u001b[0m\u001b[0;34m=\u001b[0m\u001b[0mrequest\u001b[0m\u001b[0;34m)\u001b[0m\u001b[0;34m\u001b[0m\u001b[0;34m\u001b[0m\u001b[0m\n\u001b[0m\u001b[1;32m    505\u001b[0m \u001b[0;34m\u001b[0m\u001b[0m\n\u001b[1;32m    506\u001b[0m             \u001b[0;32mif\u001b[0m \u001b[0misinstance\u001b[0m\u001b[0;34m(\u001b[0m\u001b[0me\u001b[0m\u001b[0;34m.\u001b[0m\u001b[0mreason\u001b[0m\u001b[0;34m,\u001b[0m \u001b[0mResponseError\u001b[0m\u001b[0;34m)\u001b[0m\u001b[0;34m:\u001b[0m\u001b[0;34m\u001b[0m\u001b[0;34m\u001b[0m\u001b[0m\n",
      "\u001b[0;31mConnectTimeout\u001b[0m: HTTPConnectionPool(host='34.139.254.218', port=8081): Max retries exceeded with url: /v1/statement (Caused by ConnectTimeoutError(<urllib3.connection.HTTPConnection object at 0x115daf6d0>, 'Connection to 34.139.254.218 timed out. (connect timeout=30.0)'))"
     ]
    }
   ],
   "source": [
    "def presto_query(query, user='test', catalog='pulsar', schema='public/default', host='34.139.254.218', port=8081):\n",
    "    conn = prestodb.dbapi.connect(\n",
    "        host=host,\n",
    "        port=port,\n",
    "        user=user,\n",
    "        catalog=catalog,\n",
    "        schema=schema)\n",
    "    cur = conn.cursor()\n",
    "    cur.execute(query)\n",
    "    data = cur.fetchall()\n",
    "    columns = cur.description\n",
    "    df = pd.DataFrame(data)\n",
    "    df.columns = [x[0] for x in columns]\n",
    "    return df.replace('', np.nan)\n",
    "\n",
    "query = \"SELECT * FROM input_allocation_10\"\n",
    "schema = \"customer_019d86c542dd49c5a8701facebfdeeec_offer_0/market_6\"\n",
    "df = presto_query(query, schema)"
   ]
  },
  {
   "cell_type": "code",
   "execution_count": null,
   "id": "a377d0f8",
   "metadata": {},
   "outputs": [],
   "source": [
    "GET /admin/v2/:schema/:tenant/:namespace"
   ]
  },
  {
   "cell_type": "markdown",
   "id": "864d06de",
   "metadata": {},
   "source": [
    "# Figure 1"
   ]
  },
  {
   "cell_type": "code",
   "execution_count": 123,
   "id": "e1f9e77d",
   "metadata": {},
   "outputs": [
    {
     "data": {
      "text/html": [
       "<div>\n",
       "<style scoped>\n",
       "    .dataframe tbody tr th:only-of-type {\n",
       "        vertical-align: middle;\n",
       "    }\n",
       "\n",
       "    .dataframe tbody tr th {\n",
       "        vertical-align: top;\n",
       "    }\n",
       "\n",
       "    .dataframe thead th {\n",
       "        text-align: right;\n",
       "    }\n",
       "</style>\n",
       "<table border=\"1\" class=\"dataframe\">\n",
       "  <thead>\n",
       "    <tr style=\"text-align: right;\">\n",
       "      <th></th>\n",
       "      <th>time_ms</th>\n",
       "      <th>_measurement</th>\n",
       "      <th>_field</th>\n",
       "      <th>_value</th>\n",
       "      <th>uuid</th>\n",
       "      <th>entity</th>\n",
       "      <th>num_customers</th>\n",
       "      <th>num_suppliers</th>\n",
       "      <th>supplier_behavior</th>\n",
       "    </tr>\n",
       "  </thead>\n",
       "  <tbody>\n",
       "    <tr>\n",
       "      <th>1</th>\n",
       "      <td>0.000</td>\n",
       "      <td>Events</td>\n",
       "      <td>state</td>\n",
       "      <td>1</td>\n",
       "      <td>mediator_1_offer_0</td>\n",
       "      <td>mediator</td>\n",
       "      <td>10</td>\n",
       "      <td>10</td>\n",
       "      <td>lazy</td>\n",
       "    </tr>\n",
       "    <tr>\n",
       "      <th>2</th>\n",
       "      <td>1356.173</td>\n",
       "      <td>Events</td>\n",
       "      <td>state</td>\n",
       "      <td>1</td>\n",
       "      <td>customer_da12336d62e44f7aba5e2bea5e9f222a_offer_0</td>\n",
       "      <td>customer</td>\n",
       "      <td>10</td>\n",
       "      <td>10</td>\n",
       "      <td>lazy</td>\n",
       "    </tr>\n",
       "  </tbody>\n",
       "</table>\n",
       "</div>"
      ],
      "text/plain": [
       "    time_ms _measurement _field _value  \\\n",
       "1     0.000       Events  state      1   \n",
       "2  1356.173       Events  state      1   \n",
       "\n",
       "                                                uuid    entity  num_customers  \\\n",
       "1                                 mediator_1_offer_0  mediator             10   \n",
       "2  customer_da12336d62e44f7aba5e2bea5e9f222a_offer_0  customer             10   \n",
       "\n",
       "   num_suppliers supplier_behavior  \n",
       "1             10              lazy  \n",
       "2             10              lazy  "
      ]
     },
     "execution_count": 123,
     "metadata": {},
     "output_type": "execute_result"
    }
   ],
   "source": [
    "def load_raw_results():\n",
    "    dfs = []\n",
    "    results_dir = os.path.join(os.getcwd(), \"demo_results\", \"raw_influx\")\n",
    "    onlyfiles = [f for f in os.listdir(results_dir) if os.path.isfile(os.path.join(results_dir, f))]\n",
    "    file_names = [f for f in onlyfiles if f.endswith(\".csv\")]\n",
    "    for file_name in file_names:\n",
    "        file_path = os.path.join(results_dir, file_name)\n",
    "        df = pd.read_csv(file_path)\n",
    "        temp = file_name.split(\"-\")\n",
    "        df['num_customers'] = int(temp[0])\n",
    "        df['num_suppliers'] = int(temp[1])\n",
    "        df['supplier_behavior'] = temp[2].split(\".\")[0]\n",
    "        dfs.append(df)\n",
    "    return pd.concat(dfs, ignore_index=True)\n",
    "\n",
    "df = load_raw_results()\n",
    "state = df[df['_field']=='state']\n",
    "sender = df[df['_field']=='sender']\n",
    "allocation = df[df['_field']=='allocation']\n",
    "state.head(2)"
   ]
  },
  {
   "cell_type": "code",
   "execution_count": 136,
   "id": "9582aef0",
   "metadata": {},
   "outputs": [],
   "source": [
    "def plot_state(raw_state, num_customers, num_suppliers, supplier_behavior):\n",
    "    state = deepcopy(raw_state)\n",
    "    state = state[(state['num_customers']==num_customers) & (state['num_suppliers']==num_suppliers) & (state['supplier_behavior']==supplier_behavior) & (state['entity'].isin(['customer', 'supplier']))]\n",
    "    completed_uuids = state[state['_value']=='11']['uuid'].unique().tolist()\n",
    "    print(f\"Number of completed uuids: {len(completed_uuids)}\")\n",
    "    state = state[state['uuid'].isin(completed_uuids)]\n",
    "    \n",
    "    print(len(state))\n",
    "    result = {'state_id': [], 'state': [], 'entity': [], 'uuid': [], 'time (s)': [], 'time (ms)': []}\n",
    "    #state_pairs = [[1,2], [2,3], [3,4], [4,5], [6,7], [7,11]]\n",
    "    state_pairs = [[1,4], [4,5], [7,11]]\n",
    "    state_names = ['a', 'b', 'c']\n",
    "    for uuid in state['uuid'].unique():\n",
    "        i = 0\n",
    "        for state_pair in state_pairs:\n",
    "            start_time = state.loc[(state['uuid']==uuid) & (state['_value']==str(state_pair[0])), 'time_ms'].iloc[0]\n",
    "            end_time = state.loc[(state['uuid']==uuid) & (state['_value']==str(state_pair[1])), 'time_ms'].iloc[0]\n",
    "            time_diff = end_time - start_time\n",
    "            result['state_id'].append(f\"{state_pair[0]}\")\n",
    "            result['state'].append(state_names[i])\n",
    "            result['entity'].append(f\"{uuid.split('_')[0]}\")\n",
    "            result['uuid'].append(uuid)\n",
    "            result['time (s)'].append(time_diff/1000)\n",
    "            result['time (ms)'].append(time_diff)\n",
    "            i += 1\n",
    "    df_plot = pd.DataFrame(result)\n",
    "    return df_plot\n",
    "    "
   ]
  },
  {
   "cell_type": "code",
   "execution_count": 140,
   "id": "a0ec30a1",
   "metadata": {},
   "outputs": [
    {
     "name": "stdout",
     "output_type": "stream",
     "text": [
      "Number of completed uuids: 20\n",
      "160\n"
     ]
    },
    {
     "data": {
      "image/png": "[encoded data removed]",
      "text/plain": [
       "<Figure size 1152x360 with 1 Axes>"
      ]
     },
     "metadata": {},
     "output_type": "display_data"
    }
   ],
   "source": [
    "# 10-10-nominal\n",
    "\n",
    "df_plot = plot_state(state, 10, 10, \"nominal\")\n",
    "sns.set_style(\"whitegrid\")\n",
    "sns.set_context(\"poster\")\n",
    "f, ax = plt.subplots(figsize=(16, 5))\n",
    "sns.boxplot(data=df_plot, x=\"state\", y=\"time (s)\", hue=\"entity\")\n",
    "ax.set(xlabel=None)\n",
    "#ax.set(ylim=(20, None))\n",
    "plt.legend(bbox_to_anchor=(1.05, 1), loc=2, borderaxespad=0.)\n",
    "plt.tight_layout()\n",
    "file_path = os.path.join(os.getcwd(), \"demo_results\", \"img\", \"10-10-nominal.pdf\")\n",
    "plt.savefig(file_path, dpi=300)\n",
    "plt.show()"
   ]
  },
  {
   "cell_type": "code",
   "execution_count": 141,
   "id": "bbe1aab9",
   "metadata": {},
   "outputs": [
    {
     "name": "stdout",
     "output_type": "stream",
     "text": [
      "Number of completed uuids: 20\n",
      "220\n"
     ]
    },
    {
     "data": {
      "image/png": "[encoded data removed]",
      "text/plain": [
       "<Figure size 1152x360 with 1 Axes>"
      ]
     },
     "metadata": {},
     "output_type": "display_data"
    }
   ],
   "source": [
    "# 10-10-lazy\n",
    "\n",
    "df_plot = plot_state(state, 10, 10, \"lazy\")\n",
    "sns.set_style(\"whitegrid\")\n",
    "sns.set_context(\"poster\")\n",
    "f, ax = plt.subplots(figsize=(16, 5))\n",
    "sns.boxplot(data=df_plot, x=\"state\", y=\"time (s)\", hue=\"entity\")\n",
    "ax.set(xlabel=None)\n",
    "#ax.set(ylim=(20, None))\n",
    "plt.legend(bbox_to_anchor=(1.05, 1), loc=2, borderaxespad=0.)\n",
    "plt.tight_layout()\n",
    "file_path = os.path.join(os.getcwd(), \"demo_results\", \"img\", \"10-10-lazy.pdf\")\n",
    "plt.savefig(file_path, dpi=300)\n",
    "plt.show()"
   ]
  },
  {
   "cell_type": "markdown",
   "id": "74e6b5e1",
   "metadata": {},
   "source": [
    "# Resource Consumption\n",
    "\n",
    "SELECT * FROM `ascendant-choir-331619.modicummarket11192021.gke_cluster_resource_consumption`\n",
    "\n",
    "SELECT * FROM `ascendant-choir-331619.modicummarket11192021.gke_cluster_resource_usage`\n",
    "\n",
    "https://cloud.google.com/kubernetes-engine/docs/how-to/cluster-usage-metering#view_in_bigquery"
   ]
  },
  {
   "cell_type": "code",
   "execution_count": 64,
   "id": "eb9b760f",
   "metadata": {},
   "outputs": [
    {
     "data": {
      "text/html": [
       "<div>\n",
       "<style scoped>\n",
       "    .dataframe tbody tr th:only-of-type {\n",
       "        vertical-align: middle;\n",
       "    }\n",
       "\n",
       "    .dataframe tbody tr th {\n",
       "        vertical-align: top;\n",
       "    }\n",
       "\n",
       "    .dataframe thead th {\n",
       "        text-align: right;\n",
       "    }\n",
       "</style>\n",
       "<table border=\"1\" class=\"dataframe\">\n",
       "  <thead>\n",
       "    <tr style=\"text-align: right;\">\n",
       "      <th></th>\n",
       "      <th>cluster_location</th>\n",
       "      <th>cluster_name</th>\n",
       "      <th>namespace</th>\n",
       "      <th>resource_name</th>\n",
       "      <th>sku_id</th>\n",
       "      <th>start_time</th>\n",
       "      <th>end_time</th>\n",
       "      <th>fraction</th>\n",
       "      <th>cloud_resource_size</th>\n",
       "      <th>labels</th>\n",
       "      <th>project</th>\n",
       "      <th>usage</th>\n",
       "    </tr>\n",
       "  </thead>\n",
       "  <tbody>\n",
       "    <tr>\n",
       "      <th>0</th>\n",
       "      <td>us-central1-c</td>\n",
       "      <td>cost-optimized-cluster-1</td>\n",
       "      <td>kube-system</td>\n",
       "      <td>memory</td>\n",
       "      <td>F449-33EC-A5EF</td>\n",
       "      <td>2021-11-18T08:08:56Z</td>\n",
       "      <td>2021-11-18T09:08:57Z</td>\n",
       "      <td>0.00218</td>\n",
       "      <td>4128378880</td>\n",
       "      <td>{\\n  \"labels\": [{\\n    \"key\": \"pod-template-ge...</td>\n",
       "      <td>{\\n  \"project\": {\\n    \"id\": \"ascendant-choir-...</td>\n",
       "      <td>{\\n  \"usage\": {\\n    \"amount\": \"32410828800.0\"...</td>\n",
       "    </tr>\n",
       "  </tbody>\n",
       "</table>\n",
       "</div>"
      ],
      "text/plain": [
       "  cluster_location              cluster_name    namespace resource_name  \\\n",
       "0    us-central1-c  cost-optimized-cluster-1  kube-system        memory   \n",
       "\n",
       "           sku_id            start_time              end_time  fraction  \\\n",
       "0  F449-33EC-A5EF  2021-11-18T08:08:56Z  2021-11-18T09:08:57Z   0.00218   \n",
       "\n",
       "   cloud_resource_size                                             labels  \\\n",
       "0           4128378880  {\\n  \"labels\": [{\\n    \"key\": \"pod-template-ge...   \n",
       "\n",
       "                                             project  \\\n",
       "0  {\\n  \"project\": {\\n    \"id\": \"ascendant-choir-...   \n",
       "\n",
       "                                               usage  \n",
       "0  {\\n  \"usage\": {\\n    \"amount\": \"32410828800.0\"...  "
      ]
     },
     "execution_count": 64,
     "metadata": {},
     "output_type": "execute_result"
    }
   ],
   "source": [
    "#file_path = os.path.join(os.getcwd(), \"demo_results\", \"resource\", \"resource_usage.csv\")\n",
    "file_path = os.path.join(os.getcwd(), \"demo_results\", \"resource\", \"resource_consumption.csv\")\n",
    "usage = pd.read_csv(file_path)\n",
    "usage.head(1)"
   ]
  },
  {
   "cell_type": "code",
   "execution_count": 65,
   "id": "99c613e4",
   "metadata": {},
   "outputs": [
    {
     "data": {
      "text/html": [
       "<div>\n",
       "<style scoped>\n",
       "    .dataframe tbody tr th:only-of-type {\n",
       "        vertical-align: middle;\n",
       "    }\n",
       "\n",
       "    .dataframe tbody tr th {\n",
       "        vertical-align: top;\n",
       "    }\n",
       "\n",
       "    .dataframe thead th {\n",
       "        text-align: right;\n",
       "    }\n",
       "</style>\n",
       "<table border=\"1\" class=\"dataframe\">\n",
       "  <thead>\n",
       "    <tr style=\"text-align: right;\">\n",
       "      <th></th>\n",
       "      <th>cluster_location</th>\n",
       "      <th>cluster_name</th>\n",
       "      <th>namespace</th>\n",
       "      <th>resource_name</th>\n",
       "      <th>sku_id</th>\n",
       "      <th>start_time</th>\n",
       "      <th>end_time</th>\n",
       "      <th>fraction</th>\n",
       "      <th>cloud_resource_size</th>\n",
       "      <th>labels</th>\n",
       "      <th>project</th>\n",
       "      <th>usage</th>\n",
       "      <th>service</th>\n",
       "      <th>usage_val</th>\n",
       "      <th>usage_unit</th>\n",
       "    </tr>\n",
       "  </thead>\n",
       "  <tbody>\n",
       "    <tr>\n",
       "      <th>0</th>\n",
       "      <td>us-central1-c</td>\n",
       "      <td>cost-optimized-cluster-1</td>\n",
       "      <td>kube-system</td>\n",
       "      <td>memory</td>\n",
       "      <td>F449-33EC-A5EF</td>\n",
       "      <td>2021-11-18 08:08:56+00:00</td>\n",
       "      <td>2021-11-18 09:08:57+00:00</td>\n",
       "      <td>0.00218</td>\n",
       "      <td>4128378880</td>\n",
       "      <td>{\\n  \"labels\": [{\\n    \"key\": \"pod-template-ge...</td>\n",
       "      <td>{\\n  \"project\": {\\n    \"id\": \"ascendant-choir-...</td>\n",
       "      <td>{\\n  \"usage\": {\\n    \"amount\": \"32410828800.0\"...</td>\n",
       "      <td>none</td>\n",
       "      <td>3.241083e+10</td>\n",
       "      <td>byte-seconds</td>\n",
       "    </tr>\n",
       "  </tbody>\n",
       "</table>\n",
       "</div>"
      ],
      "text/plain": [
       "  cluster_location              cluster_name    namespace resource_name  \\\n",
       "0    us-central1-c  cost-optimized-cluster-1  kube-system        memory   \n",
       "\n",
       "           sku_id                start_time                  end_time  \\\n",
       "0  F449-33EC-A5EF 2021-11-18 08:08:56+00:00 2021-11-18 09:08:57+00:00   \n",
       "\n",
       "   fraction  cloud_resource_size  \\\n",
       "0   0.00218           4128378880   \n",
       "\n",
       "                                              labels  \\\n",
       "0  {\\n  \"labels\": [{\\n    \"key\": \"pod-template-ge...   \n",
       "\n",
       "                                             project  \\\n",
       "0  {\\n  \"project\": {\\n    \"id\": \"ascendant-choir-...   \n",
       "\n",
       "                                               usage service     usage_val  \\\n",
       "0  {\\n  \"usage\": {\\n    \"amount\": \"32410828800.0\"...    none  3.241083e+10   \n",
       "\n",
       "     usage_unit  \n",
       "0  byte-seconds  "
      ]
     },
     "execution_count": 65,
     "metadata": {},
     "output_type": "execute_result"
    }
   ],
   "source": [
    "usage['start_time'] = pd.to_datetime(usage['start_time'])\n",
    "usage['end_time'] = pd.to_datetime(usage['end_time'])\n",
    "\n",
    "service = []\n",
    "usage_val = []\n",
    "usage_unit = []\n",
    "for k, v in usage.iterrows():\n",
    "    temp = json.loads(v['labels'])['labels']\n",
    "    temp2 = {x['key']: x['value'] for x in temp}\n",
    "    if 'io.kompose.service' in temp2.keys():\n",
    "        service.append(temp2['io.kompose.service'])\n",
    "    else:\n",
    "        service.append('none')\n",
    "    temp3 = json.loads(v['usage'])['usage']\n",
    "    usage_val.append(float(temp3['amount']))\n",
    "    usage_unit.append(temp3['unit'])\n",
    "\n",
    "usage['service'] = service\n",
    "usage['usage_val'] = usage_val\n",
    "usage['usage_unit'] = usage_unit\n",
    "usage.head(1)"
   ]
  },
  {
   "cell_type": "code",
   "execution_count": 66,
   "id": "f9e45c01",
   "metadata": {},
   "outputs": [
    {
     "data": {
      "text/plain": [
       "array(['{\\n  \"labels\": [{\\n    \"key\": \"pod-template-generation\",\\n    \"value\": \"1\"\\n  }, {\\n    \"key\": \"controller-revision-hash\",\\n    \"value\": \"686b756cd6\"\\n  }, {\\n    \"key\": \"k8s-app\",\\n    \"value\": \"gcp-compute-persistent-disk-csi-driver\"\\n  }]\\n}',\n",
       "       '{\\n  \"labels\": [{\\n    \"key\": \"pod-template-generation\",\\n    \"value\": \"1\"\\n  }, {\\n    \"key\": \"component\",\\n    \"value\": \"fluentbit-gke\"\\n  }, {\\n    \"key\": \"controller-revision-hash\",\\n    \"value\": \"68c7599fd7\"\\n  }, {\\n    \"key\": \"k8s-app\",\\n    \"value\": \"fluentbit-gke\"\\n  }, {\\n    \"key\": \"kubernetes.io/cluster-service\",\\n    \"value\": \"true\"\\n  }]\\n}',\n",
       "       '{\\n  \"labels\": [{\\n    \"key\": \"pod-template-generation\",\\n    \"value\": \"1\"\\n  }, {\\n    \"key\": \"component\",\\n    \"value\": \"gke-metrics-agent\"\\n  }, {\\n    \"key\": \"controller-revision-hash\",\\n    \"value\": \"7955df8777\"\\n  }, {\\n    \"key\": \"k8s-app\",\\n    \"value\": \"gke-metrics-agent\"\\n  }]\\n}',\n",
       "       '{\\n  \"labels\": [{\\n    \"key\": \"k8s-app\",\\n    \"value\": \"glbc\"\\n  }, {\\n    \"key\": \"name\",\\n    \"value\": \"glbc\"\\n  }, {\\n    \"key\": \"pod-template-hash\",\\n    \"value\": \"865b4c8f8b\"\\n  }]\\n}',\n",
       "       '{\\n  \"labels\": [{\\n    \"key\": \"tier\",\\n    \"value\": \"node\"\\n  }, {\\n    \"key\": \"component\",\\n    \"value\": \"kube-proxy\"\\n  }]\\n}',\n",
       "       '{\\n  \"labels\": [{\\n    \"key\": \"kubernetes.io/cluster-service\",\\n    \"value\": \"true\"\\n  }, {\\n    \"key\": \"pod-template-generation\",\\n    \"value\": \"1\"\\n  }, {\\n    \"key\": \"component\",\\n    \"value\": \"fluentbit-gke\"\\n  }, {\\n    \"key\": \"controller-revision-hash\",\\n    \"value\": \"68c7599fd7\"\\n  }, {\\n    \"key\": \"k8s-app\",\\n    \"value\": \"fluentbit-gke\"\\n  }]\\n}',\n",
       "       '{\\n  \"labels\": [{\\n    \"key\": \"k8s-app\",\\n    \"value\": \"kube-dns\"\\n  }, {\\n    \"key\": \"pod-template-hash\",\\n    \"value\": \"697dc8fc8b\"\\n  }]\\n}',\n",
       "       '{\\n  \"labels\": [{\\n    \"key\": \"pod-template-hash\",\\n    \"value\": \"5bbc9bc7ff\"\\n  }, {\\n    \"key\": \"k8s-app\",\\n    \"value\": \"konnectivity-agent\"\\n  }]\\n}',\n",
       "       '{\\n  \"labels\": [{\\n    \"key\": \"controller-revision-hash\",\\n    \"value\": \"686b756cd6\"\\n  }, {\\n    \"key\": \"k8s-app\",\\n    \"value\": \"gcp-compute-persistent-disk-csi-driver\"\\n  }, {\\n    \"key\": \"pod-template-generation\",\\n    \"value\": \"1\"\\n  }]\\n}',\n",
       "       '{\\n  \"labels\": [{\\n    \"key\": \"controller-revision-hash\",\\n    \"value\": \"68c7599fd7\"\\n  }, {\\n    \"key\": \"k8s-app\",\\n    \"value\": \"fluentbit-gke\"\\n  }, {\\n    \"key\": \"kubernetes.io/cluster-service\",\\n    \"value\": \"true\"\\n  }, {\\n    \"key\": \"pod-template-generation\",\\n    \"value\": \"1\"\\n  }, {\\n    \"key\": \"component\",\\n    \"value\": \"fluentbit-gke\"\\n  }]\\n}',\n",
       "       '{\\n  \"labels\": [{\\n    \"key\": \"pod-template-hash\",\\n    \"value\": \"697dc8fc8b\"\\n  }, {\\n    \"key\": \"k8s-app\",\\n    \"value\": \"kube-dns\"\\n  }]\\n}',\n",
       "       '{\\n  \"labels\": [{\\n    \"key\": \"controller-revision-hash\",\\n    \"value\": \"7955df8777\"\\n  }, {\\n    \"key\": \"k8s-app\",\\n    \"value\": \"gke-metrics-agent\"\\n  }, {\\n    \"key\": \"pod-template-generation\",\\n    \"value\": \"1\"\\n  }, {\\n    \"key\": \"component\",\\n    \"value\": \"gke-metrics-agent\"\\n  }]\\n}',\n",
       "       '{\\n  \"labels\": [{\\n    \"key\": \"pod-template-hash\",\\n    \"value\": \"844c9d9448\"\\n  }, {\\n    \"key\": \"k8s-app\",\\n    \"value\": \"kube-dns-autoscaler\"\\n  }]\\n}',\n",
       "       '{\\n  \"labels\": [{\\n    \"key\": \"pod-template-hash\",\\n    \"value\": \"857776bc9c\"\\n  }, {\\n    \"key\": \"version\",\\n    \"value\": \"v0.4.4\"\\n  }, {\\n    \"key\": \"k8s-app\",\\n    \"value\": \"metrics-server\"\\n  }]\\n}',\n",
       "       '{\\n  \"labels\": [{\\n    \"key\": \"pod-template-hash\",\\n    \"value\": \"865b4c8f8b\"\\n  }, {\\n    \"key\": \"k8s-app\",\\n    \"value\": \"glbc\"\\n  }, {\\n    \"key\": \"name\",\\n    \"value\": \"glbc\"\\n  }]\\n}',\n",
       "       '{\\n  \"labels\": [{\\n    \"key\": \"component\",\\n    \"value\": \"kube-proxy\"\\n  }, {\\n    \"key\": \"tier\",\\n    \"value\": \"node\"\\n  }]\\n}',\n",
       "       '{\\n  \"labels\": [{\\n    \"key\": \"k8s-app\",\\n    \"value\": \"fluentbit-gke\"\\n  }, {\\n    \"key\": \"kubernetes.io/cluster-service\",\\n    \"value\": \"true\"\\n  }, {\\n    \"key\": \"pod-template-generation\",\\n    \"value\": \"1\"\\n  }, {\\n    \"key\": \"component\",\\n    \"value\": \"fluentbit-gke\"\\n  }, {\\n    \"key\": \"controller-revision-hash\",\\n    \"value\": \"68c7599fd7\"\\n  }]\\n}',\n",
       "       '{\\n  \"labels\": [{\\n    \"key\": \"component\",\\n    \"value\": \"fluentbit-gke\"\\n  }, {\\n    \"key\": \"controller-revision-hash\",\\n    \"value\": \"68c7599fd7\"\\n  }, {\\n    \"key\": \"k8s-app\",\\n    \"value\": \"fluentbit-gke\"\\n  }, {\\n    \"key\": \"kubernetes.io/cluster-service\",\\n    \"value\": \"true\"\\n  }, {\\n    \"key\": \"pod-template-generation\",\\n    \"value\": \"1\"\\n  }]\\n}',\n",
       "       '{\\n  \"labels\": [{\\n    \"key\": \"k8s-app\",\\n    \"value\": \"event-exporter\"\\n  }, {\\n    \"key\": \"pod-template-hash\",\\n    \"value\": \"5479fd58c8\"\\n  }, {\\n    \"key\": \"version\",\\n    \"value\": \"v0.3.5\"\\n  }]\\n}',\n",
       "       '{\\n  \"labels\": [{\\n    \"key\": \"k8s-app\",\\n    \"value\": \"metrics-server\"\\n  }, {\\n    \"key\": \"pod-template-hash\",\\n    \"value\": \"857776bc9c\"\\n  }, {\\n    \"key\": \"version\",\\n    \"value\": \"v0.4.4\"\\n  }]\\n}',\n",
       "       '{\\n  \"labels\": [{\\n    \"key\": \"k8s-app\",\\n    \"value\": \"gke-metrics-agent\"\\n  }, {\\n    \"key\": \"pod-template-generation\",\\n    \"value\": \"1\"\\n  }, {\\n    \"key\": \"component\",\\n    \"value\": \"gke-metrics-agent\"\\n  }, {\\n    \"key\": \"controller-revision-hash\",\\n    \"value\": \"7955df8777\"\\n  }]\\n}',\n",
       "       '{\\n  \"labels\": [{\\n    \"key\": \"component\",\\n    \"value\": \"gke-metrics-agent\"\\n  }, {\\n    \"key\": \"controller-revision-hash\",\\n    \"value\": \"7955df8777\"\\n  }, {\\n    \"key\": \"k8s-app\",\\n    \"value\": \"gke-metrics-agent\"\\n  }, {\\n    \"key\": \"pod-template-generation\",\\n    \"value\": \"1\"\\n  }]\\n}',\n",
       "       '{\\n  \"labels\": [{\\n    \"key\": \"k8s-app\",\\n    \"value\": \"konnectivity-agent\"\\n  }, {\\n    \"key\": \"pod-template-hash\",\\n    \"value\": \"5bbc9bc7ff\"\\n  }]\\n}',\n",
       "       '{\\n  \"labels\": [{\\n    \"key\": \"k8s-app\",\\n    \"value\": \"kube-dns-autoscaler\"\\n  }, {\\n    \"key\": \"pod-template-hash\",\\n    \"value\": \"844c9d9448\"\\n  }]\\n}',\n",
       "       '{\\n  \"labels\": [{\\n    \"key\": \"k8s-app\",\\n    \"value\": \"konnectivity-agent-autoscaler\"\\n  }, {\\n    \"key\": \"pod-template-hash\",\\n    \"value\": \"5c49cb58bb\"\\n  }]\\n}',\n",
       "       '{\\n  \"labels\": [{\\n    \"key\": \"k8s-app\",\\n    \"value\": \"gcp-compute-persistent-disk-csi-driver\"\\n  }, {\\n    \"key\": \"pod-template-generation\",\\n    \"value\": \"1\"\\n  }, {\\n    \"key\": \"controller-revision-hash\",\\n    \"value\": \"686b756cd6\"\\n  }]\\n}',\n",
       "       '{\\n  \"labels\": [{\\n    \"key\": \"io.kompose.network/mv2-default\",\\n    \"value\": \"true\"\\n  }, {\\n    \"key\": \"io.kompose.service\",\\n    \"value\": \"allocator-service\"\\n  }, {\\n    \"key\": \"pod-template-hash\",\\n    \"value\": \"59b4bfd454\"\\n  }]\\n}',\n",
       "       '{\\n  \"labels\": [{\\n    \"key\": \"io.kompose.network/mv2-default\",\\n    \"value\": \"true\"\\n  }, {\\n    \"key\": \"io.kompose.service\",\\n    \"value\": \"lazy-supplier\"\\n  }, {\\n    \"key\": \"pod-template-hash\",\\n    \"value\": \"669b98d4b5\"\\n  }]\\n}',\n",
       "       '{\\n  \"labels\": [{\\n    \"key\": \"io.kompose.service\",\\n    \"value\": \"lazy-supplier\"\\n  }, {\\n    \"key\": \"pod-template-hash\",\\n    \"value\": \"669b98d4b5\"\\n  }, {\\n    \"key\": \"io.kompose.network/mv2-default\",\\n    \"value\": \"true\"\\n  }]\\n}',\n",
       "       '{\\n  \"labels\": [{\\n    \"key\": \"pod-template-hash\",\\n    \"value\": \"669b98d4b5\"\\n  }, {\\n    \"key\": \"io.kompose.network/mv2-default\",\\n    \"value\": \"true\"\\n  }, {\\n    \"key\": \"io.kompose.service\",\\n    \"value\": \"lazy-supplier\"\\n  }]\\n}',\n",
       "       '{\\n  \"labels\": [{\\n    \"key\": \"io.kompose.service\",\\n    \"value\": \"mediator-service\"\\n  }, {\\n    \"key\": \"pod-template-hash\",\\n    \"value\": \"7dcbbb84bb\"\\n  }, {\\n    \"key\": \"io.kompose.network/mv2-default\",\\n    \"value\": \"true\"\\n  }]\\n}',\n",
       "       '{\\n  \"labels\": [{\\n    \"key\": \"io.kompose.network/mv2-default\",\\n    \"value\": \"true\"\\n  }, {\\n    \"key\": \"io.kompose.service\",\\n    \"value\": \"sporadic-customer\"\\n  }, {\\n    \"key\": \"pod-template-hash\",\\n    \"value\": \"b7466b74f\"\\n  }]\\n}',\n",
       "       '{\\n  \"labels\": [{\\n    \"key\": \"pod-template-hash\",\\n    \"value\": \"b7466b74f\"\\n  }, {\\n    \"key\": \"io.kompose.network/mv2-default\",\\n    \"value\": \"true\"\\n  }, {\\n    \"key\": \"io.kompose.service\",\\n    \"value\": \"sporadic-customer\"\\n  }]\\n}',\n",
       "       '{\\n  \"labels\": [{\\n    \"key\": \"io.kompose.service\",\\n    \"value\": \"sporadic-customer\"\\n  }, {\\n    \"key\": \"pod-template-hash\",\\n    \"value\": \"b7466b74f\"\\n  }, {\\n    \"key\": \"io.kompose.network/mv2-default\",\\n    \"value\": \"true\"\\n  }]\\n}',\n",
       "       '{\\n  \"labels\": [{\\n    \"key\": \"io.kompose.network/mv2-default\",\\n    \"value\": \"true\"\\n  }, {\\n    \"key\": \"io.kompose.service\",\\n    \"value\": \"verifier-service\"\\n  }, {\\n    \"key\": \"pod-template-hash\",\\n    \"value\": \"b9b77ff75\"\\n  }]\\n}',\n",
       "       '{\\n  \"labels\": [{\\n    \"key\": \"version\",\\n    \"value\": \"v0.3.5\"\\n  }, {\\n    \"key\": \"k8s-app\",\\n    \"value\": \"event-exporter\"\\n  }, {\\n    \"key\": \"pod-template-hash\",\\n    \"value\": \"5479fd58c8\"\\n  }]\\n}',\n",
       "       '{\\n  \"labels\": [{\\n    \"key\": \"pod-template-hash\",\\n    \"value\": \"5c49cb58bb\"\\n  }, {\\n    \"key\": \"k8s-app\",\\n    \"value\": \"konnectivity-agent-autoscaler\"\\n  }]\\n}',\n",
       "       '{\\n  \"labels\": [{\\n    \"key\": \"k8s-app\",\\n    \"value\": \"konnectivity-agent\"\\n  }, {\\n    \"key\": \"pod-template-hash\",\\n    \"value\": \"fcd4b8474\"\\n  }]\\n}',\n",
       "       '{\\n  \"labels\": [{\\n    \"key\": \"pod-template-hash\",\\n    \"value\": \"fcd4b8474\"\\n  }, {\\n    \"key\": \"k8s-app\",\\n    \"value\": \"konnectivity-agent\"\\n  }]\\n}',\n",
       "       '{\\n  \"labels\": [{\\n    \"key\": \"name\",\\n    \"value\": \"glbc\"\\n  }, {\\n    \"key\": \"pod-template-hash\",\\n    \"value\": \"865b4c8f8b\"\\n  }, {\\n    \"key\": \"k8s-app\",\\n    \"value\": \"glbc\"\\n  }]\\n}',\n",
       "       '{\\n  \"labels\": [{\\n    \"key\": \"io.kompose.network/mv2-default\",\\n    \"value\": \"true\"\\n  }, {\\n    \"key\": \"io.kompose.service\",\\n    \"value\": \"mediator-service\"\\n  }, {\\n    \"key\": \"pod-template-hash\",\\n    \"value\": \"7dcbbb84bb\"\\n  }]\\n}',\n",
       "       '{\\n  \"labels\": [{\\n    \"key\": \"io.kompose.network/mv2-default\",\\n    \"value\": \"true\"\\n  }, {\\n    \"key\": \"io.kompose.service\",\\n    \"value\": \"nominal-supplier\"\\n  }, {\\n    \"key\": \"pod-template-hash\",\\n    \"value\": \"9f455c67f\"\\n  }]\\n}',\n",
       "       '{\\n  \"labels\": [{\\n    \"key\": \"version\",\\n    \"value\": \"v0.4.4\"\\n  }, {\\n    \"key\": \"k8s-app\",\\n    \"value\": \"metrics-server\"\\n  }, {\\n    \"key\": \"pod-template-hash\",\\n    \"value\": \"857776bc9c\"\\n  }]\\n}',\n",
       "       '{\\n  \"labels\": [{\\n    \"key\": \"pod-template-hash\",\\n    \"value\": \"9f455c67f\"\\n  }, {\\n    \"key\": \"io.kompose.network/mv2-default\",\\n    \"value\": \"true\"\\n  }, {\\n    \"key\": \"io.kompose.service\",\\n    \"value\": \"nominal-supplier\"\\n  }]\\n}',\n",
       "       '{\\n  \"labels\": [{\\n    \"key\": \"pod-template-hash\",\\n    \"value\": \"b9b77ff75\"\\n  }, {\\n    \"key\": \"io.kompose.network/mv2-default\",\\n    \"value\": \"true\"\\n  }, {\\n    \"key\": \"io.kompose.service\",\\n    \"value\": \"verifier-service\"\\n  }]\\n}',\n",
       "       '{\\n  \"labels\": [{\\n    \"key\": \"pod-template-hash\",\\n    \"value\": \"59b4bfd454\"\\n  }, {\\n    \"key\": \"io.kompose.network/mv2-default\",\\n    \"value\": \"true\"\\n  }, {\\n    \"key\": \"io.kompose.service\",\\n    \"value\": \"allocator-service\"\\n  }]\\n}',\n",
       "       '{\\n  \"labels\": [{\\n    \"key\": \"io.kompose.service\",\\n    \"value\": \"nominal-supplier\"\\n  }, {\\n    \"key\": \"pod-template-hash\",\\n    \"value\": \"9f455c67f\"\\n  }, {\\n    \"key\": \"io.kompose.network/mv2-default\",\\n    \"value\": \"true\"\\n  }]\\n}',\n",
       "       '{\\n  \"labels\": [{\\n    \"key\": \"io.kompose.service\",\\n    \"value\": \"allocator-service\"\\n  }, {\\n    \"key\": \"pod-template-hash\",\\n    \"value\": \"59b4bfd454\"\\n  }, {\\n    \"key\": \"io.kompose.network/mv2-default\",\\n    \"value\": \"true\"\\n  }]\\n}',\n",
       "       '{\\n  \"labels\": [{\\n    \"key\": \"k8s-app\",\\n    \"value\": \"konnectivity-agent\"\\n  }, {\\n    \"key\": \"pod-template-hash\",\\n    \"value\": \"696564c966\"\\n  }]\\n}',\n",
       "       '{\\n  \"labels\": [{\\n    \"key\": \"k8s-app\",\\n    \"value\": \"metrics-server\"\\n  }, {\\n    \"key\": \"pod-template-hash\",\\n    \"value\": \"5d9bcd85b9\"\\n  }, {\\n    \"key\": \"version\",\\n    \"value\": \"v0.4.4\"\\n  }]\\n}',\n",
       "       '{\\n  \"labels\": [{\\n    \"key\": \"pod-template-hash\",\\n    \"value\": \"696564c966\"\\n  }, {\\n    \"key\": \"k8s-app\",\\n    \"value\": \"konnectivity-agent\"\\n  }]\\n}',\n",
       "       '{\\n  \"labels\": [{\\n    \"key\": \"pod-template-hash\",\\n    \"value\": \"5479fd58c8\"\\n  }, {\\n    \"key\": \"version\",\\n    \"value\": \"v0.3.5\"\\n  }, {\\n    \"key\": \"k8s-app\",\\n    \"value\": \"event-exporter\"\\n  }]\\n}',\n",
       "       '{\\n  \"labels\": [{\\n    \"key\": \"io.kompose.service\",\\n    \"value\": \"verifier-service\"\\n  }, {\\n    \"key\": \"pod-template-hash\",\\n    \"value\": \"b9b77ff75\"\\n  }, {\\n    \"key\": \"io.kompose.network/mv2-default\",\\n    \"value\": \"true\"\\n  }]\\n}'],\n",
       "      dtype=object)"
      ]
     },
     "execution_count": 66,
     "metadata": {},
     "output_type": "execute_result"
    }
   ],
   "source": [
    "usage[usage['usage_val']>0]['labels'].unique()"
   ]
  },
  {
   "cell_type": "code",
   "execution_count": 67,
   "id": "fb6bf329",
   "metadata": {},
   "outputs": [
    {
     "data": {
      "text/plain": [
       "array(['none', 'allocator-service', 'lazy-supplier', 'mediator-service',\n",
       "       'sporadic-customer', 'verifier-service', 'nominal-supplier'],\n",
       "      dtype=object)"
      ]
     },
     "execution_count": 67,
     "metadata": {},
     "output_type": "execute_result"
    }
   ],
   "source": [
    "usage['service'].unique()"
   ]
  },
  {
   "cell_type": "code",
   "execution_count": 69,
   "id": "efb145df",
   "metadata": {},
   "outputs": [
    {
     "data": {
      "text/html": [
       "<div>\n",
       "<style scoped>\n",
       "    .dataframe tbody tr th:only-of-type {\n",
       "        vertical-align: middle;\n",
       "    }\n",
       "\n",
       "    .dataframe tbody tr th {\n",
       "        vertical-align: top;\n",
       "    }\n",
       "\n",
       "    .dataframe thead th {\n",
       "        text-align: right;\n",
       "    }\n",
       "</style>\n",
       "<table border=\"1\" class=\"dataframe\">\n",
       "  <thead>\n",
       "    <tr style=\"text-align: right;\">\n",
       "      <th></th>\n",
       "      <th>cluster_location</th>\n",
       "      <th>cluster_name</th>\n",
       "      <th>namespace</th>\n",
       "      <th>resource_name</th>\n",
       "      <th>sku_id</th>\n",
       "      <th>start_time</th>\n",
       "      <th>end_time</th>\n",
       "      <th>fraction</th>\n",
       "      <th>cloud_resource_size</th>\n",
       "      <th>labels</th>\n",
       "      <th>project</th>\n",
       "      <th>usage</th>\n",
       "      <th>service</th>\n",
       "      <th>usage_val</th>\n",
       "      <th>usage_unit</th>\n",
       "    </tr>\n",
       "  </thead>\n",
       "  <tbody>\n",
       "    <tr>\n",
       "      <th>266</th>\n",
       "      <td>us-central1-c</td>\n",
       "      <td>cost-optimized-cluster-1</td>\n",
       "      <td>default</td>\n",
       "      <td>cpu</td>\n",
       "      <td>CF4E-A0C7-E3BF</td>\n",
       "      <td>2021-11-18 22:26:43+00:00</td>\n",
       "      <td>2021-11-18 23:26:47+00:00</td>\n",
       "      <td>0.000499</td>\n",
       "      <td>4</td>\n",
       "      <td>{\\n  \"labels\": [{\\n    \"key\": \"io.kompose.netw...</td>\n",
       "      <td>{\\n  \"project\": {\\n    \"id\": \"ascendant-choir-...</td>\n",
       "      <td>{\\n  \"usage\": {\\n    \"amount\": \"7.199999999999...</td>\n",
       "      <td>lazy-supplier</td>\n",
       "      <td>7.200000e+00</td>\n",
       "      <td>seconds</td>\n",
       "    </tr>\n",
       "    <tr>\n",
       "      <th>267</th>\n",
       "      <td>us-central1-c</td>\n",
       "      <td>cost-optimized-cluster-1</td>\n",
       "      <td>default</td>\n",
       "      <td>memory</td>\n",
       "      <td>F449-33EC-A5EF</td>\n",
       "      <td>2021-11-18 22:26:43+00:00</td>\n",
       "      <td>2021-11-18 23:26:47+00:00</td>\n",
       "      <td>0.002398</td>\n",
       "      <td>16792662016</td>\n",
       "      <td>{\\n  \"labels\": [{\\n    \"key\": \"io.kompose.serv...</td>\n",
       "      <td>{\\n  \"project\": {\\n    \"id\": \"ascendant-choir-...</td>\n",
       "      <td>{\\n  \"usage\": {\\n    \"amount\": \"145140940800.0...</td>\n",
       "      <td>lazy-supplier</td>\n",
       "      <td>1.451409e+11</td>\n",
       "      <td>byte-seconds</td>\n",
       "    </tr>\n",
       "    <tr>\n",
       "      <th>268</th>\n",
       "      <td>us-central1-c</td>\n",
       "      <td>cost-optimized-cluster-1</td>\n",
       "      <td>default</td>\n",
       "      <td>cpu</td>\n",
       "      <td>CF4E-A0C7-E3BF</td>\n",
       "      <td>2021-11-18 22:26:51+00:00</td>\n",
       "      <td>2021-11-18 23:26:58+00:00</td>\n",
       "      <td>0.000499</td>\n",
       "      <td>4</td>\n",
       "      <td>{\\n  \"labels\": [{\\n    \"key\": \"io.kompose.netw...</td>\n",
       "      <td>{\\n  \"project\": {\\n    \"id\": \"ascendant-choir-...</td>\n",
       "      <td>{\\n  \"usage\": {\\n    \"amount\": \"7.199999999999...</td>\n",
       "      <td>lazy-supplier</td>\n",
       "      <td>7.200000e+00</td>\n",
       "      <td>seconds</td>\n",
       "    </tr>\n",
       "    <tr>\n",
       "      <th>269</th>\n",
       "      <td>us-central1-c</td>\n",
       "      <td>cost-optimized-cluster-1</td>\n",
       "      <td>default</td>\n",
       "      <td>memory</td>\n",
       "      <td>F449-33EC-A5EF</td>\n",
       "      <td>2021-11-18 22:26:51+00:00</td>\n",
       "      <td>2021-11-18 23:26:58+00:00</td>\n",
       "      <td>0.003019</td>\n",
       "      <td>16792662016</td>\n",
       "      <td>{\\n  \"labels\": [{\\n    \"key\": \"io.kompose.netw...</td>\n",
       "      <td>{\\n  \"project\": {\\n    \"id\": \"ascendant-choir-...</td>\n",
       "      <td>{\\n  \"usage\": {\\n    \"amount\": \"182874931200.0...</td>\n",
       "      <td>lazy-supplier</td>\n",
       "      <td>1.828749e+11</td>\n",
       "      <td>byte-seconds</td>\n",
       "    </tr>\n",
       "    <tr>\n",
       "      <th>270</th>\n",
       "      <td>us-central1-c</td>\n",
       "      <td>cost-optimized-cluster-1</td>\n",
       "      <td>default</td>\n",
       "      <td>cpu</td>\n",
       "      <td>CF4E-A0C7-E3BF</td>\n",
       "      <td>2021-11-18 22:26:54+00:00</td>\n",
       "      <td>2021-11-18 23:26:55+00:00</td>\n",
       "      <td>0.000723</td>\n",
       "      <td>4</td>\n",
       "      <td>{\\n  \"labels\": [{\\n    \"key\": \"io.kompose.netw...</td>\n",
       "      <td>{\\n  \"project\": {\\n    \"id\": \"ascendant-choir-...</td>\n",
       "      <td>{\\n  \"usage\": {\\n    \"amount\": \"10.40999999999...</td>\n",
       "      <td>lazy-supplier</td>\n",
       "      <td>1.041000e+01</td>\n",
       "      <td>seconds</td>\n",
       "    </tr>\n",
       "  </tbody>\n",
       "</table>\n",
       "</div>"
      ],
      "text/plain": [
       "    cluster_location              cluster_name namespace resource_name  \\\n",
       "266    us-central1-c  cost-optimized-cluster-1   default           cpu   \n",
       "267    us-central1-c  cost-optimized-cluster-1   default        memory   \n",
       "268    us-central1-c  cost-optimized-cluster-1   default           cpu   \n",
       "269    us-central1-c  cost-optimized-cluster-1   default        memory   \n",
       "270    us-central1-c  cost-optimized-cluster-1   default           cpu   \n",
       "\n",
       "             sku_id                start_time                  end_time  \\\n",
       "266  CF4E-A0C7-E3BF 2021-11-18 22:26:43+00:00 2021-11-18 23:26:47+00:00   \n",
       "267  F449-33EC-A5EF 2021-11-18 22:26:43+00:00 2021-11-18 23:26:47+00:00   \n",
       "268  CF4E-A0C7-E3BF 2021-11-18 22:26:51+00:00 2021-11-18 23:26:58+00:00   \n",
       "269  F449-33EC-A5EF 2021-11-18 22:26:51+00:00 2021-11-18 23:26:58+00:00   \n",
       "270  CF4E-A0C7-E3BF 2021-11-18 22:26:54+00:00 2021-11-18 23:26:55+00:00   \n",
       "\n",
       "     fraction  cloud_resource_size  \\\n",
       "266  0.000499                    4   \n",
       "267  0.002398          16792662016   \n",
       "268  0.000499                    4   \n",
       "269  0.003019          16792662016   \n",
       "270  0.000723                    4   \n",
       "\n",
       "                                                labels  \\\n",
       "266  {\\n  \"labels\": [{\\n    \"key\": \"io.kompose.netw...   \n",
       "267  {\\n  \"labels\": [{\\n    \"key\": \"io.kompose.serv...   \n",
       "268  {\\n  \"labels\": [{\\n    \"key\": \"io.kompose.netw...   \n",
       "269  {\\n  \"labels\": [{\\n    \"key\": \"io.kompose.netw...   \n",
       "270  {\\n  \"labels\": [{\\n    \"key\": \"io.kompose.netw...   \n",
       "\n",
       "                                               project  \\\n",
       "266  {\\n  \"project\": {\\n    \"id\": \"ascendant-choir-...   \n",
       "267  {\\n  \"project\": {\\n    \"id\": \"ascendant-choir-...   \n",
       "268  {\\n  \"project\": {\\n    \"id\": \"ascendant-choir-...   \n",
       "269  {\\n  \"project\": {\\n    \"id\": \"ascendant-choir-...   \n",
       "270  {\\n  \"project\": {\\n    \"id\": \"ascendant-choir-...   \n",
       "\n",
       "                                                 usage        service  \\\n",
       "266  {\\n  \"usage\": {\\n    \"amount\": \"7.199999999999...  lazy-supplier   \n",
       "267  {\\n  \"usage\": {\\n    \"amount\": \"145140940800.0...  lazy-supplier   \n",
       "268  {\\n  \"usage\": {\\n    \"amount\": \"7.199999999999...  lazy-supplier   \n",
       "269  {\\n  \"usage\": {\\n    \"amount\": \"182874931200.0...  lazy-supplier   \n",
       "270  {\\n  \"usage\": {\\n    \"amount\": \"10.40999999999...  lazy-supplier   \n",
       "\n",
       "        usage_val    usage_unit  \n",
       "266  7.200000e+00       seconds  \n",
       "267  1.451409e+11  byte-seconds  \n",
       "268  7.200000e+00       seconds  \n",
       "269  1.828749e+11  byte-seconds  \n",
       "270  1.041000e+01       seconds  "
      ]
     },
     "execution_count": 69,
     "metadata": {},
     "output_type": "execute_result"
    }
   ],
   "source": [
    "temp = usage[usage['service']=='lazy-supplier']\n",
    "temp.head()"
   ]
  },
  {
   "cell_type": "code",
   "execution_count": null,
   "id": "5e3e6660",
   "metadata": {},
   "outputs": [],
   "source": [
    "start_time = temp.iloc[0]['start_time']\n",
    "end_time = temp.iloc[0]['end_time']"
   ]
  },
  {
   "cell_type": "code",
   "execution_count": null,
   "id": "fb2c9b59",
   "metadata": {},
   "outputs": [],
   "source": [
    "usage['service']==''"
   ]
  },
  {
   "cell_type": "code",
   "execution_count": 46,
   "id": "068fb699",
   "metadata": {},
   "outputs": [
    {
     "name": "stdout",
     "output_type": "stream",
     "text": [
      "2021-11-18T19:27:22.239Z\n"
     ]
    },
    {
     "data": {
      "text/plain": [
       "Timestamp('2021-11-18 19:27:22.239000+0000', tz='UTC')"
      ]
     },
     "execution_count": 46,
     "metadata": {},
     "output_type": "execute_result"
    }
   ],
   "source": [
    "temp = usage.iloc[0]['start_time']\n",
    "print(temp)\n",
    "pd.to_datetime(temp)"
   ]
  },
  {
   "cell_type": "markdown",
   "id": "14255309",
   "metadata": {},
   "source": [
    "# Void"
   ]
  },
  {
   "cell_type": "code",
   "execution_count": 102,
   "id": "c63f2b09",
   "metadata": {},
   "outputs": [
    {
     "name": "stdout",
     "output_type": "stream",
     "text": [
      "20\n"
     ]
    },
    {
     "data": {
      "text/html": [
       "<div>\n",
       "<style scoped>\n",
       "    .dataframe tbody tr th:only-of-type {\n",
       "        vertical-align: middle;\n",
       "    }\n",
       "\n",
       "    .dataframe tbody tr th {\n",
       "        vertical-align: top;\n",
       "    }\n",
       "\n",
       "    .dataframe thead th {\n",
       "        text-align: right;\n",
       "    }\n",
       "</style>\n",
       "<table border=\"1\" class=\"dataframe\">\n",
       "  <thead>\n",
       "    <tr style=\"text-align: right;\">\n",
       "      <th></th>\n",
       "      <th>time_ms</th>\n",
       "      <th>_measurement</th>\n",
       "      <th>_field</th>\n",
       "      <th>_value</th>\n",
       "      <th>uuid</th>\n",
       "      <th>entity</th>\n",
       "    </tr>\n",
       "  </thead>\n",
       "  <tbody>\n",
       "    <tr>\n",
       "      <th>626</th>\n",
       "      <td>1356.173</td>\n",
       "      <td>Events</td>\n",
       "      <td>state</td>\n",
       "      <td>1</td>\n",
       "      <td>customer_da12336d62e44f7aba5e2bea5e9f222a_offer_0</td>\n",
       "      <td>customer</td>\n",
       "    </tr>\n",
       "    <tr>\n",
       "      <th>627</th>\n",
       "      <td>1394.643</td>\n",
       "      <td>Events</td>\n",
       "      <td>state</td>\n",
       "      <td>2</td>\n",
       "      <td>customer_da12336d62e44f7aba5e2bea5e9f222a_offer_0</td>\n",
       "      <td>customer</td>\n",
       "    </tr>\n",
       "    <tr>\n",
       "      <th>85</th>\n",
       "      <td>1398.361</td>\n",
       "      <td>Events</td>\n",
       "      <td>state</td>\n",
       "      <td>1</td>\n",
       "      <td>customer_96995d93fe764243b989d1c4c7d9c2c9_offer_0</td>\n",
       "      <td>customer</td>\n",
       "    </tr>\n",
       "    <tr>\n",
       "      <th>325</th>\n",
       "      <td>1478.482</td>\n",
       "      <td>Events</td>\n",
       "      <td>state</td>\n",
       "      <td>1</td>\n",
       "      <td>customer_90df753fc3bf4eeda65998aeeb7a6329_offer_0</td>\n",
       "      <td>customer</td>\n",
       "    </tr>\n",
       "    <tr>\n",
       "      <th>680</th>\n",
       "      <td>1511.785</td>\n",
       "      <td>Events</td>\n",
       "      <td>state</td>\n",
       "      <td>1</td>\n",
       "      <td>customer_a422ec25e1504d07962f914c93bdd669_offer_0</td>\n",
       "      <td>customer</td>\n",
       "    </tr>\n",
       "  </tbody>\n",
       "</table>\n",
       "</div>"
      ],
      "text/plain": [
       "      time_ms _measurement _field _value  \\\n",
       "626  1356.173       Events  state      1   \n",
       "627  1394.643       Events  state      2   \n",
       "85   1398.361       Events  state      1   \n",
       "325  1478.482       Events  state      1   \n",
       "680  1511.785       Events  state      1   \n",
       "\n",
       "                                                  uuid    entity  \n",
       "626  customer_da12336d62e44f7aba5e2bea5e9f222a_offer_0  customer  \n",
       "627  customer_da12336d62e44f7aba5e2bea5e9f222a_offer_0  customer  \n",
       "85   customer_96995d93fe764243b989d1c4c7d9c2c9_offer_0  customer  \n",
       "325  customer_90df753fc3bf4eeda65998aeeb7a6329_offer_0  customer  \n",
       "680  customer_a422ec25e1504d07962f914c93bdd669_offer_0  customer  "
      ]
     },
     "execution_count": 102,
     "metadata": {},
     "output_type": "execute_result"
    }
   ],
   "source": [
    "state_pairs = [[1,2], [2,3], [4,5], [6,7], [7,11]]\n",
    "completed_uuids = state[state['_value']==11]['uuid'].unique().tolist()\n",
    "print(len(completed_uuids))\n",
    "state = state[state['uuid'].isin(completed_uuids)]\n",
    "state.head()"
   ]
  },
  {
   "cell_type": "code",
   "execution_count": 103,
   "id": "71e11612",
   "metadata": {},
   "outputs": [
    {
     "data": {
      "text/html": [
       "<div>\n",
       "<style scoped>\n",
       "    .dataframe tbody tr th:only-of-type {\n",
       "        vertical-align: middle;\n",
       "    }\n",
       "\n",
       "    .dataframe tbody tr th {\n",
       "        vertical-align: top;\n",
       "    }\n",
       "\n",
       "    .dataframe thead th {\n",
       "        text-align: right;\n",
       "    }\n",
       "</style>\n",
       "<table border=\"1\" class=\"dataframe\">\n",
       "  <thead>\n",
       "    <tr style=\"text-align: right;\">\n",
       "      <th></th>\n",
       "      <th>state_id</th>\n",
       "      <th>state</th>\n",
       "      <th>entity</th>\n",
       "      <th>uuid</th>\n",
       "      <th>time (s)</th>\n",
       "      <th>time (ms)</th>\n",
       "    </tr>\n",
       "  </thead>\n",
       "  <tbody>\n",
       "    <tr>\n",
       "      <th>0</th>\n",
       "      <td>1</td>\n",
       "      <td>a</td>\n",
       "      <td>customer</td>\n",
       "      <td>customer_da12336d62e44f7aba5e2bea5e9f222a_offer_0</td>\n",
       "      <td>8.948597</td>\n",
       "      <td>8948.597</td>\n",
       "    </tr>\n",
       "    <tr>\n",
       "      <th>1</th>\n",
       "      <td>4</td>\n",
       "      <td>b</td>\n",
       "      <td>customer</td>\n",
       "      <td>customer_da12336d62e44f7aba5e2bea5e9f222a_offer_0</td>\n",
       "      <td>18.276254</td>\n",
       "      <td>18276.254</td>\n",
       "    </tr>\n",
       "    <tr>\n",
       "      <th>2</th>\n",
       "      <td>6</td>\n",
       "      <td>c</td>\n",
       "      <td>customer</td>\n",
       "      <td>customer_da12336d62e44f7aba5e2bea5e9f222a_offer_0</td>\n",
       "      <td>153.508270</td>\n",
       "      <td>153508.270</td>\n",
       "    </tr>\n",
       "    <tr>\n",
       "      <th>3</th>\n",
       "      <td>1</td>\n",
       "      <td>a</td>\n",
       "      <td>customer</td>\n",
       "      <td>customer_96995d93fe764243b989d1c4c7d9c2c9_offer_0</td>\n",
       "      <td>9.137890</td>\n",
       "      <td>9137.890</td>\n",
       "    </tr>\n",
       "    <tr>\n",
       "      <th>4</th>\n",
       "      <td>4</td>\n",
       "      <td>b</td>\n",
       "      <td>customer</td>\n",
       "      <td>customer_96995d93fe764243b989d1c4c7d9c2c9_offer_0</td>\n",
       "      <td>18.014055</td>\n",
       "      <td>18014.055</td>\n",
       "    </tr>\n",
       "  </tbody>\n",
       "</table>\n",
       "</div>"
      ],
      "text/plain": [
       "  state_id state    entity                                               uuid  \\\n",
       "0        1     a  customer  customer_da12336d62e44f7aba5e2bea5e9f222a_offer_0   \n",
       "1        4     b  customer  customer_da12336d62e44f7aba5e2bea5e9f222a_offer_0   \n",
       "2        6     c  customer  customer_da12336d62e44f7aba5e2bea5e9f222a_offer_0   \n",
       "3        1     a  customer  customer_96995d93fe764243b989d1c4c7d9c2c9_offer_0   \n",
       "4        4     b  customer  customer_96995d93fe764243b989d1c4c7d9c2c9_offer_0   \n",
       "\n",
       "     time (s)   time (ms)  \n",
       "0    8.948597    8948.597  \n",
       "1   18.276254   18276.254  \n",
       "2  153.508270  153508.270  \n",
       "3    9.137890    9137.890  \n",
       "4   18.014055   18014.055  "
      ]
     },
     "execution_count": 103,
     "metadata": {},
     "output_type": "execute_result"
    }
   ],
   "source": [
    "result = {'state_id': [], 'state': [], 'entity': [], 'uuid': [], 'time (s)': [], 'time (ms)': []}\n",
    "#state_pairs = [[1,2], [2,3], [3,4], [4,5], [6,7], [7,11]]\n",
    "state_pairs = [[1,4], [4,5], [6,11]]\n",
    "state_names = ['a', 'b', 'c']\n",
    "for uuid in state['uuid'].unique():\n",
    "    i = 0\n",
    "    for state_pair in state_pairs:\n",
    "        start_time = state.loc[(state['uuid']==uuid) & (state['_value']==state_pair[0]), 'time_ms'].iloc[0]\n",
    "        end_time = state.loc[(state['uuid']==uuid) & (state['_value']==state_pair[1]), 'time_ms'].iloc[0]\n",
    "        time_diff = end_time - start_time\n",
    "        result['state_id'].append(f\"{state_pair[0]}\")\n",
    "        result['state'].append(state_names[i])\n",
    "        result['entity'].append(f\"{uuid.split('_')[0]}\")\n",
    "        result['uuid'].append(uuid)\n",
    "        result['time (s)'].append(time_diff/1000)\n",
    "        result['time (ms)'].append(time_diff)\n",
    "        i += 1\n",
    "df_plot = pd.DataFrame(result)\n",
    "df_plot.head()"
   ]
  },
  {
   "cell_type": "code",
   "execution_count": 104,
   "id": "62147b90",
   "metadata": {},
   "outputs": [],
   "source": [
    "file_path = os.path.join(os.getcwd(), \"demo_results\", \"stages\", \"10-10-lazy.csv\")\n",
    "df_plot.to_csv(file_path, index=False)"
   ]
  },
  {
   "cell_type": "code",
   "execution_count": 105,
   "id": "e3ef9bf4",
   "metadata": {},
   "outputs": [
    {
     "data": {
      "image/png": "[encoded data removed]",
      "text/plain": [
       "<Figure size 864x360 with 1 Axes>"
      ]
     },
     "metadata": {},
     "output_type": "display_data"
    }
   ],
   "source": [
    "sns.set_style(\"whitegrid\")\n",
    "sns.set_context(\"poster\")\n",
    "f, ax = plt.subplots(figsize=(12, 5))\n",
    "sns.boxplot(data=df_plot, x=\"state\", y=\"time (s)\", hue=\"entity\")\n",
    "ax.set(xlabel=None)\n",
    "#ax.set(ylim=(20, None))\n",
    "plt.legend(bbox_to_anchor=(1.05, 1), loc=2, borderaxespad=0.)\n",
    "plt.tight_layout()\n",
    "#file_path = os.path.join(os.getcwd(), \"..\", \"data\", \"results\", \"img\", \"servicerate.pdf\")\n",
    "#plt.savefig(file_path, dpi=300)\n",
    "plt.show()"
   ]
  },
  {
   "cell_type": "code",
   "execution_count": 39,
   "id": "77c49f76",
   "metadata": {},
   "outputs": [],
   "source": [
    "client.close()"
   ]
  },
  {
   "cell_type": "markdown",
   "id": "0ad31544",
   "metadata": {},
   "source": [
    "# Pulsar"
   ]
  },
  {
   "cell_type": "code",
   "execution_count": 98,
   "id": "4f2a32e5",
   "metadata": {},
   "outputs": [
    {
     "name": "stdout",
     "output_type": "stream",
     "text": [
      "1\n"
     ]
    }
   ],
   "source": [
    "print(1)"
   ]
  },
  {
   "cell_type": "code",
   "execution_count": null,
   "id": "9dff375e",
   "metadata": {},
   "outputs": [],
   "source": []
  }
 ],
 "metadata": {
  "kernelspec": {
   "display_name": "Python 3 (ipykernel)",
   "language": "python",
   "name": "python3"
  },
  "language_info": {
   "codemirror_mode": {
    "name": "ipython",
    "version": 3
   },
   "file_extension": ".py",
   "mimetype": "text/x-python",
   "name": "python",
   "nbconvert_exporter": "python",
   "pygments_lexer": "ipython3",
   "version": "3.8.5"
  }
 },
 "nbformat": 4,
 "nbformat_minor": 5
}
