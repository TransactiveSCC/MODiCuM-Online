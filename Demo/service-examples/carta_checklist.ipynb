{
 "cells": [
  {
   "cell_type": "code",
   "execution_count": 2,
   "id": "2ebc3eaf-053c-4556-a67c-c39f14dace9b",
   "metadata": {},
   "outputs": [],
   "source": [
    "import cv2\n",
    "import hashlib\n",
    "import os\n",
    "import random"
   ]
  },
  {
   "cell_type": "code",
   "execution_count": 3,
   "id": "e33bbf4b-5be8-4eb4-b60d-48497c12af1f",
   "metadata": {},
   "outputs": [],
   "source": [
    "frame_loc = \"Carta-preproc/frames-dev\"\n",
    "files = sorted(os.listdir(frame_loc))\n",
    "outputs = [6, 4, 6, 4, 6]\n",
    "num_files = len(files)"
   ]
  },
  {
   "cell_type": "code",
   "execution_count": 4,
   "id": "5bf2ada6-c349-41fa-9a2b-82dfdc4a2a1a",
   "metadata": {},
   "outputs": [
    {
     "name": "stdout",
     "output_type": "stream",
     "text": [
      "['7ed7e492467ccad8dc2dd8876e9e0725867a3064b2903961bba2884fdc68a66b_6', 'd91ec2b1dfd69c916f2f6fdd314afff239cba45fc93fffadb4c6f7b4f347233e_4', 'eceb5b08f4b667568db75ccf6f1a260905c6babc7dcc6530f61f0c73f29c72f7_6', '6a92de3dfc6a50591ca747c69a637d6f7f52ebf456731dde4c890cb252f5fe8d_4', '9a349c9744350c288628856a6a8987d3c8757946b6daf738eb6024ac805309c4_6']\n"
     ]
    }
   ],
   "source": [
    "frame_num = 0\n",
    "last = False\n",
    "commit_list = []\n",
    "\n",
    "while not last:\n",
    "    image_file = f\"{frame_loc}/{files[frame_num]}\"\n",
    "    img = cv2.imread(image_file)\n",
    "    img_encode = cv2.imencode('.jpg', img)[1]\n",
    "    img_bytes = img_encode.tobytes()\n",
    "    img_uuid = hashlib.sha256(img_bytes).hexdigest()\n",
    "    value = outputs[frame_num]\n",
    "    commit_uuid = f\"{img_uuid}_{value}\"\n",
    "#     commit_uuid = hashlib.sha256(commit.encode(\"utf-8\")).hexdigest()   \n",
    "    commit_list.append(commit_uuid)\n",
    "    \n",
    "#     print(f\"img_uuid: {img_uuid}\")\n",
    "#     print(f\"commit_uuid: {commit_uuid}\\n\")\n",
    "    frame_num += 1\n",
    "    if frame_num == num_files:\n",
    "        last = True\n",
    "print(commit_list)"
   ]
  },
  {
   "cell_type": "code",
   "execution_count": 5,
   "id": "2af7e7bb-65ed-4436-89af-ae54d7e23a9c",
   "metadata": {},
   "outputs": [
    {
     "name": "stdout",
     "output_type": "stream",
     "text": [
      "3f20109eabdd5f1ca0e0a5c36aec7bb43b604322139ece03c9f1681d5cc66d28\n"
     ]
    }
   ],
   "source": [
    "a = \"6a92de3dfc6a50591ca747c69a637d6f7f52ebf456731dde4c890cb252f5fe8d\"\n",
    "hash_a = hashlib.sha256(str(a).encode(\"utf-8\")).hexdigest()\n",
    "print(hash_a)"
   ]
  },
  {
   "cell_type": "code",
   "execution_count": 6,
   "id": "d784b94f-4ec9-42a7-9608-730153c99764",
   "metadata": {},
   "outputs": [
    {
     "name": "stdout",
     "output_type": "stream",
     "text": [
      "4f53cda18c2baa0c0354bb5f9a3ecbe5ed12ab4d8e11ba873c2f11161202b945\n"
     ]
    }
   ],
   "source": [
    "output_checklist = []\n",
    "hashed_output_checklist = hashlib.sha256(str(output_checklist).encode(\"utf-8\")).hexdigest()\n",
    "print(hashed_output_checklist)"
   ]
  },
  {
   "cell_type": "code",
   "execution_count": 7,
   "id": "f04b1109-8042-40ae-a6ba-6c882d939dce",
   "metadata": {},
   "outputs": [
    {
     "name": "stdout",
     "output_type": "stream",
     "text": [
      "0.8444218515250481\n",
      "0.7579544029403025\n",
      "0.420571580830845\n",
      "0.25891675029296335\n",
      "0.5112747213686085\n"
     ]
    }
   ],
   "source": [
    "random.seed(0)\n",
    "for i in range(5):\n",
    "    print(random.uniform(0,1))"
   ]
  },
  {
   "cell_type": "code",
   "execution_count": 23,
   "id": "ec234745-13db-4b48-9cec-2272290ec049",
   "metadata": {},
   "outputs": [
    {
     "name": "stdout",
     "output_type": "stream",
     "text": [
      "\u001b[91m store_output: ['7ed7e492467ccad8dc2dd8876e9e0725867a3064b2903961bba2884fdc68a66b_6'] < 5False \u001b[00m\n",
      "\u001b[91m expected: 5 received: 1 \u001b[00m \n",
      "\u001b[91m store_output: ['7ed7e492467ccad8dc2dd8876e9e0725867a3064b2903961bba2884fdc68a66b_6', 'd91ec2b1dfd69c916f2f6fdd314afff239cba45fc93fffadb4c6f7b4f347233e_4'] < 5False \u001b[00m\n",
      "\u001b[91m expected: 5 received: 2 \u001b[00m \n",
      "\u001b[91m store_output: ['7ed7e492467ccad8dc2dd8876e9e0725867a3064b2903961bba2884fdc68a66b_6', 'd91ec2b1dfd69c916f2f6fdd314afff239cba45fc93fffadb4c6f7b4f347233e_4', 'eceb5b08f4b667568db75ccf6f1a260905c6babc7dcc6530f61f0c73f29c72f7_6'] < 5False \u001b[00m\n",
      "\u001b[91m expected: 5 received: 3 \u001b[00m \n",
      "\u001b[91m store_output: ['7ed7e492467ccad8dc2dd8876e9e0725867a3064b2903961bba2884fdc68a66b_6', 'd91ec2b1dfd69c916f2f6fdd314afff239cba45fc93fffadb4c6f7b4f347233e_4', 'eceb5b08f4b667568db75ccf6f1a260905c6babc7dcc6530f61f0c73f29c72f7_6', '6a92de3dfc6a50591ca747c69a637d6f7f52ebf456731dde4c890cb252f5fe8d_4'] < 5False \u001b[00m\n",
      "\u001b[91m expected: 5 received: 4 \u001b[00m \n",
      "\u001b[91m store_output: ['7ed7e492467ccad8dc2dd8876e9e0725867a3064b2903961bba2884fdc68a66b_6', 'd91ec2b1dfd69c916f2f6fdd314afff239cba45fc93fffadb4c6f7b4f347233e_4', 'eceb5b08f4b667568db75ccf6f1a260905c6babc7dcc6530f61f0c73f29c72f7_6', '6a92de3dfc6a50591ca747c69a637d6f7f52ebf456731dde4c890cb252f5fe8d_4', '9a349c9744350c288628856a6a8987d3c8757946b6daf738eb6024ac805309c4_6'] < 5True \u001b[00m\n",
      "recieved all\n",
      "\u001b[91m expected: 5 received: 5 \u001b[00m \n"
     ]
    }
   ],
   "source": [
    "import pulsar\n",
    "import time\n",
    "customer_uuid = \"customer_ff2fc7dede4a441f9ac1823168bf35aa\"\n",
    "market_uuid = \"market_13\"\n",
    "allocation_uuid = \"allocation_0\"\n",
    "\n",
    "class InputDataSchema(pulsar.schema.Record):\n",
    "    allocation_uuid = pulsar.schema.String()\n",
    "    value = pulsar.schema.Bytes()\n",
    "    timestamp = pulsar.schema.Float()\n",
    "    msgnum = pulsar.schema.Integer()\n",
    "    input_uuid = pulsar.schema.String()\n",
    "    \n",
    "class OutputDataSchema(pulsar.schema.Record):\n",
    "    allocation_uuid = pulsar.schema.String()\n",
    "    value = pulsar.schema.Integer()\n",
    "    # customer = pulsar.schema.String()\n",
    "    # service_name = pulsar.schema.String()\n",
    "    # jobid = pulsar.schema.String()\n",
    "    # start = pulsar.schema.Float()\n",
    "    # end = pulsar.schema.Float()\n",
    "    # supplier = pulsar.schema.String()\n",
    "    # allocationid = pulsar.schema.String()\n",
    "    customertimestamp = pulsar.schema.Float()\n",
    "    suppliertimestamp = pulsar.schema.Float()\n",
    "    msgnum = pulsar.schema.Integer()\n",
    "    input_uuid = pulsar.schema.String()\n",
    "    input_msgID = pulsar.schema.Bytes()\n",
    "    timestamp = pulsar.schema.Float()\n",
    "\n",
    "class CleanupDataSchema(pulsar.schema.Record):\n",
    "    allocation_uuid = pulsar.schema.String()\n",
    "    cleanup = pulsar.schema.Boolean\n",
    "    timestamp = pulsar.schema.Float()\n",
    "\n",
    "# consumer output_topic persistent://customer_31bb908ac1f64300845f25ae8ab11e4f/market_9/mediation_output_allocation_0 \n",
    "# producer output_topic persistent://customer_31bb908ac1f64300845f25ae8ab11e4f/market_9/mediation_output_allocation_0\n",
    "\n",
    "    \n",
    "class mediator:\n",
    "    def __init__(self):\n",
    "        self.input_MessageId_list = [b'\\x08\\x8a\\x05\\x10\\x00', b'\\x08\\x8a\\x05\\x10\\x01', b'\\x08\\x8a\\x05\\x10\\x02', b'\\x08\\x8a\\x05\\x10\\x03', b'\\x08\\x8a\\x05\\x10\\x04']\n",
    "        self.pulsar_client = pulsar.Client(f\"pulsar://172.21.20.70:6650\")\n",
    "        self.output_checklist = []\n",
    "    def readTopic(self):\n",
    "        for serial_msg_id in self.input_MessageId_list:\n",
    "            msg_id = pulsar.MessageId.deserialize(serial_msg_id)\n",
    "#             print(msg_id)\n",
    "            reader = self.pulsar_client.create_reader(\n",
    "                topic=f\"persistent://{customer_uuid}/{market_uuid}/output_{allocation_uuid}\",\n",
    "                start_message_id=msg_id,\n",
    "                schema=pulsar.schema.AvroSchema(InputDataSchema)\n",
    "                )\n",
    "            input_msg = reader.read_next()\n",
    "            print(msg_id)\n",
    "            print(input_msg.message_id())\n",
    "#             time.sleep(.2)\n",
    "            # app_input = input_msg.value().value\n",
    "#             print(f\"\\033[91m send image: {input_msg.value().input_uuid} \\033[00m\")\n",
    "    def getOutput(self, user_uuid):\n",
    "        self.output_consumer = self.pulsar_client.subscribe(\n",
    "#             topic=f\"persistent://customer_31bb908ac1f64300845f25ae8ab11e4f/market_9/mediation_output_allocation_0\",\n",
    "            topic=f\"persistent://customer_ff2fc7dede4a441f9ac1823168bf35aa/market_13/mediation_output_allocation_0\",\n",
    "            schema=pulsar.schema.AvroSchema(OutputDataSchema),\n",
    "            subscription_name=f\"{user_uuid}-output_{allocation_uuid}\",\n",
    "            initial_position=pulsar.InitialPosition.Earliest,\n",
    "            consumer_type=pulsar.ConsumerType.Exclusive,\n",
    "            message_listener=self.store_output)\n",
    "        \n",
    "    def getCleanup(self, user_uuid):\n",
    "        self.output_consumer = self.pulsar_client.subscribe(\n",
    "#             topic=f\"persistent://customer_31bb908ac1f64300845f25ae8ab11e4f/market_9/mediation_output_allocation_0\",\n",
    "            topic=f\"persistent://customer_b61ab3e3aa574f76ad229aa3e16978cd/market_10/mediation_cleanup_allocation_0\",\n",
    "            schema=pulsar.schema.AvroSchema(CleanupDataSchema),\n",
    "            subscription_name=f\"{user_uuid}-cleanup_{allocation_uuid}\",\n",
    "            initial_position=pulsar.InitialPosition.Earliest,\n",
    "            consumer_type=pulsar.ConsumerType.Exclusive,\n",
    "            message_listener=self.cleanup)\n",
    "    \n",
    "    def cleanup(self, consumer, msg):\n",
    "        print(\"cleanup called\")\n",
    "        \n",
    "    def store_output(self, consumer, msg):\n",
    "        consumer.acknowledge_cumulative(msg)\n",
    "\n",
    "        output = msg.value().value\n",
    "        input_uuid = msg.value().input_uuid\n",
    "        output_uuid = f\"{input_uuid}_{output}\"\n",
    "\n",
    "        self.output_checklist.append(output_uuid)\n",
    "\n",
    "        received = len(self.output_checklist)\n",
    "        expected = len(self.input_MessageId_list)\n",
    "        all_received = received >= expected\n",
    "\n",
    "        print(f\"\\033[91m store_output: {self.output_checklist} < {len(self.input_MessageId_list)}\"\n",
    "              f\"{all_received} \\033[00m\")\n",
    "\n",
    "        if all_received:\n",
    "            print(\"recieved all\")\n",
    "            print(f\"\\033[91m expected: {expected} received: {received} \\033[00m \")\n",
    "#             recv_timestamp = datetime.datetime.now(tz=datetime.timezone.utc).timestamp()\n",
    "#             cleanup = MV2.schema.CleanupDataSchema(\n",
    "#                 allocation_uuid=msg.value().allocation_uuid,\n",
    "#                 cleanup=True,\n",
    "#                 timestamp=recv_timestamp\n",
    "#             )\n",
    "#             self.cleanup_producer.send(cleanup)\n",
    "        else:\n",
    "            print(f\"\\033[91m expected: {expected} received: {received} \\033[00m \")\n",
    "\n",
    "m = mediator()\n",
    "m.getOutput(\"m1\")\n",
    "# m.getCleanup(\"m2\")"
   ]
  },
  {
   "cell_type": "code",
   "execution_count": null,
   "id": "cb5b02b6-01fa-44a4-bddd-8c82565a6817",
   "metadata": {},
   "outputs": [],
   "source": []
  }
 ],
 "metadata": {
  "kernelspec": {
   "display_name": "Python 3",
   "language": "python",
   "name": "python3"
  },
  "language_info": {
   "codemirror_mode": {
    "name": "ipython",
    "version": 3
   },
   "file_extension": ".py",
   "mimetype": "text/x-python",
   "name": "python",
   "nbconvert_exporter": "python",
   "pygments_lexer": "ipython3",
   "version": "3.8.10"
  }
 },
 "nbformat": 4,
 "nbformat_minor": 5
}
